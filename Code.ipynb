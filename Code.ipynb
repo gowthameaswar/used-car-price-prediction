{
 "cells": [
  {
   "cell_type": "markdown",
   "metadata": {},
   "source": [
    "## Importing libraries required for data preprocessing and EDA "
   ]
  },
  {
   "cell_type": "code",
   "execution_count": 1,
   "metadata": {},
   "outputs": [],
   "source": [
    "import pandas as pd\n",
    "import numpy as np\n",
    "import matplotlib.pyplot as plt\n",
    "import seaborn as sns\n",
    "%matplotlib inline"
   ]
  },
  {
   "cell_type": "code",
   "execution_count": 2,
   "metadata": {},
   "outputs": [],
   "source": [
    "df=pd.read_csv(\"car_details.csv\") #Reading the dataset"
   ]
  },
  {
   "cell_type": "markdown",
   "metadata": {},
   "source": [
    "## Looking over the dataset "
   ]
  },
  {
   "cell_type": "code",
   "execution_count": 3,
   "metadata": {},
   "outputs": [
    {
     "data": {
      "text/html": [
       "<div>\n",
       "<style scoped>\n",
       "    .dataframe tbody tr th:only-of-type {\n",
       "        vertical-align: middle;\n",
       "    }\n",
       "\n",
       "    .dataframe tbody tr th {\n",
       "        vertical-align: top;\n",
       "    }\n",
       "\n",
       "    .dataframe thead th {\n",
       "        text-align: right;\n",
       "    }\n",
       "</style>\n",
       "<table border=\"1\" class=\"dataframe\">\n",
       "  <thead>\n",
       "    <tr style=\"text-align: right;\">\n",
       "      <th></th>\n",
       "      <th>name</th>\n",
       "      <th>year</th>\n",
       "      <th>selling_price</th>\n",
       "      <th>km_driven</th>\n",
       "      <th>fuel</th>\n",
       "      <th>seller_type</th>\n",
       "      <th>transmission</th>\n",
       "      <th>owner</th>\n",
       "    </tr>\n",
       "  </thead>\n",
       "  <tbody>\n",
       "    <tr>\n",
       "      <th>0</th>\n",
       "      <td>Maruti 800 AC</td>\n",
       "      <td>2007</td>\n",
       "      <td>60000</td>\n",
       "      <td>70000</td>\n",
       "      <td>Petrol</td>\n",
       "      <td>Individual</td>\n",
       "      <td>Manual</td>\n",
       "      <td>First Owner</td>\n",
       "    </tr>\n",
       "    <tr>\n",
       "      <th>1</th>\n",
       "      <td>Maruti Wagon R LXI Minor</td>\n",
       "      <td>2007</td>\n",
       "      <td>135000</td>\n",
       "      <td>50000</td>\n",
       "      <td>Petrol</td>\n",
       "      <td>Individual</td>\n",
       "      <td>Manual</td>\n",
       "      <td>First Owner</td>\n",
       "    </tr>\n",
       "    <tr>\n",
       "      <th>2</th>\n",
       "      <td>Hyundai Verna 1.6 SX</td>\n",
       "      <td>2012</td>\n",
       "      <td>600000</td>\n",
       "      <td>100000</td>\n",
       "      <td>Diesel</td>\n",
       "      <td>Individual</td>\n",
       "      <td>Manual</td>\n",
       "      <td>First Owner</td>\n",
       "    </tr>\n",
       "    <tr>\n",
       "      <th>3</th>\n",
       "      <td>Datsun RediGO T Option</td>\n",
       "      <td>2017</td>\n",
       "      <td>250000</td>\n",
       "      <td>46000</td>\n",
       "      <td>Petrol</td>\n",
       "      <td>Individual</td>\n",
       "      <td>Manual</td>\n",
       "      <td>First Owner</td>\n",
       "    </tr>\n",
       "    <tr>\n",
       "      <th>4</th>\n",
       "      <td>Honda Amaze VX i-DTEC</td>\n",
       "      <td>2014</td>\n",
       "      <td>450000</td>\n",
       "      <td>141000</td>\n",
       "      <td>Diesel</td>\n",
       "      <td>Individual</td>\n",
       "      <td>Manual</td>\n",
       "      <td>Second Owner</td>\n",
       "    </tr>\n",
       "    <tr>\n",
       "      <th>...</th>\n",
       "      <td>...</td>\n",
       "      <td>...</td>\n",
       "      <td>...</td>\n",
       "      <td>...</td>\n",
       "      <td>...</td>\n",
       "      <td>...</td>\n",
       "      <td>...</td>\n",
       "      <td>...</td>\n",
       "    </tr>\n",
       "    <tr>\n",
       "      <th>4335</th>\n",
       "      <td>Hyundai i20 Magna 1.4 CRDi (Diesel)</td>\n",
       "      <td>2014</td>\n",
       "      <td>409999</td>\n",
       "      <td>80000</td>\n",
       "      <td>Diesel</td>\n",
       "      <td>Individual</td>\n",
       "      <td>Manual</td>\n",
       "      <td>Second Owner</td>\n",
       "    </tr>\n",
       "    <tr>\n",
       "      <th>4336</th>\n",
       "      <td>Hyundai i20 Magna 1.4 CRDi</td>\n",
       "      <td>2014</td>\n",
       "      <td>409999</td>\n",
       "      <td>80000</td>\n",
       "      <td>Diesel</td>\n",
       "      <td>Individual</td>\n",
       "      <td>Manual</td>\n",
       "      <td>Second Owner</td>\n",
       "    </tr>\n",
       "    <tr>\n",
       "      <th>4337</th>\n",
       "      <td>Maruti 800 AC BSIII</td>\n",
       "      <td>2009</td>\n",
       "      <td>110000</td>\n",
       "      <td>83000</td>\n",
       "      <td>Petrol</td>\n",
       "      <td>Individual</td>\n",
       "      <td>Manual</td>\n",
       "      <td>Second Owner</td>\n",
       "    </tr>\n",
       "    <tr>\n",
       "      <th>4338</th>\n",
       "      <td>Hyundai Creta 1.6 CRDi SX Option</td>\n",
       "      <td>2016</td>\n",
       "      <td>865000</td>\n",
       "      <td>90000</td>\n",
       "      <td>Diesel</td>\n",
       "      <td>Individual</td>\n",
       "      <td>Manual</td>\n",
       "      <td>First Owner</td>\n",
       "    </tr>\n",
       "    <tr>\n",
       "      <th>4339</th>\n",
       "      <td>Renault KWID RXT</td>\n",
       "      <td>2016</td>\n",
       "      <td>225000</td>\n",
       "      <td>40000</td>\n",
       "      <td>Petrol</td>\n",
       "      <td>Individual</td>\n",
       "      <td>Manual</td>\n",
       "      <td>First Owner</td>\n",
       "    </tr>\n",
       "  </tbody>\n",
       "</table>\n",
       "<p>4340 rows × 8 columns</p>\n",
       "</div>"
      ],
      "text/plain": [
       "                                     name  year  selling_price  km_driven  \\\n",
       "0                           Maruti 800 AC  2007          60000      70000   \n",
       "1                Maruti Wagon R LXI Minor  2007         135000      50000   \n",
       "2                    Hyundai Verna 1.6 SX  2012         600000     100000   \n",
       "3                  Datsun RediGO T Option  2017         250000      46000   \n",
       "4                   Honda Amaze VX i-DTEC  2014         450000     141000   \n",
       "...                                   ...   ...            ...        ...   \n",
       "4335  Hyundai i20 Magna 1.4 CRDi (Diesel)  2014         409999      80000   \n",
       "4336           Hyundai i20 Magna 1.4 CRDi  2014         409999      80000   \n",
       "4337                  Maruti 800 AC BSIII  2009         110000      83000   \n",
       "4338     Hyundai Creta 1.6 CRDi SX Option  2016         865000      90000   \n",
       "4339                     Renault KWID RXT  2016         225000      40000   \n",
       "\n",
       "        fuel seller_type transmission         owner  \n",
       "0     Petrol  Individual       Manual   First Owner  \n",
       "1     Petrol  Individual       Manual   First Owner  \n",
       "2     Diesel  Individual       Manual   First Owner  \n",
       "3     Petrol  Individual       Manual   First Owner  \n",
       "4     Diesel  Individual       Manual  Second Owner  \n",
       "...      ...         ...          ...           ...  \n",
       "4335  Diesel  Individual       Manual  Second Owner  \n",
       "4336  Diesel  Individual       Manual  Second Owner  \n",
       "4337  Petrol  Individual       Manual  Second Owner  \n",
       "4338  Diesel  Individual       Manual   First Owner  \n",
       "4339  Petrol  Individual       Manual   First Owner  \n",
       "\n",
       "[4340 rows x 8 columns]"
      ]
     },
     "execution_count": 3,
     "metadata": {},
     "output_type": "execute_result"
    }
   ],
   "source": [
    "df"
   ]
  },
  {
   "cell_type": "code",
   "execution_count": 4,
   "metadata": {},
   "outputs": [
    {
     "name": "stdout",
     "output_type": "stream",
     "text": [
      "<class 'pandas.core.frame.DataFrame'>\n",
      "RangeIndex: 4340 entries, 0 to 4339\n",
      "Data columns (total 8 columns):\n",
      " #   Column         Non-Null Count  Dtype \n",
      "---  ------         --------------  ----- \n",
      " 0   name           4340 non-null   object\n",
      " 1   year           4340 non-null   int64 \n",
      " 2   selling_price  4340 non-null   int64 \n",
      " 3   km_driven      4340 non-null   int64 \n",
      " 4   fuel           4340 non-null   object\n",
      " 5   seller_type    4340 non-null   object\n",
      " 6   transmission   4340 non-null   object\n",
      " 7   owner          4340 non-null   object\n",
      "dtypes: int64(3), object(5)\n",
      "memory usage: 271.4+ KB\n"
     ]
    }
   ],
   "source": [
    "df.info() #Gives information like count and datatypes of columns"
   ]
  },
  {
   "cell_type": "code",
   "execution_count": 5,
   "metadata": {},
   "outputs": [
    {
     "data": {
      "text/plain": [
       "(4340, 8)"
      ]
     },
     "execution_count": 5,
     "metadata": {},
     "output_type": "execute_result"
    }
   ],
   "source": [
    "df.shape"
   ]
  },
  {
   "cell_type": "code",
   "execution_count": 6,
   "metadata": {},
   "outputs": [
    {
     "data": {
      "text/plain": [
       "name             0\n",
       "year             0\n",
       "selling_price    0\n",
       "km_driven        0\n",
       "fuel             0\n",
       "seller_type      0\n",
       "transmission     0\n",
       "owner            0\n",
       "dtype: int64"
      ]
     },
     "execution_count": 6,
     "metadata": {},
     "output_type": "execute_result"
    }
   ],
   "source": [
    "df.isnull().sum() #Checking for nullvalues"
   ]
  },
  {
   "cell_type": "code",
   "execution_count": 7,
   "metadata": {},
   "outputs": [
    {
     "data": {
      "text/html": [
       "<div>\n",
       "<style scoped>\n",
       "    .dataframe tbody tr th:only-of-type {\n",
       "        vertical-align: middle;\n",
       "    }\n",
       "\n",
       "    .dataframe tbody tr th {\n",
       "        vertical-align: top;\n",
       "    }\n",
       "\n",
       "    .dataframe thead th {\n",
       "        text-align: right;\n",
       "    }\n",
       "</style>\n",
       "<table border=\"1\" class=\"dataframe\">\n",
       "  <thead>\n",
       "    <tr style=\"text-align: right;\">\n",
       "      <th></th>\n",
       "      <th>year</th>\n",
       "      <th>selling_price</th>\n",
       "      <th>km_driven</th>\n",
       "    </tr>\n",
       "  </thead>\n",
       "  <tbody>\n",
       "    <tr>\n",
       "      <th>count</th>\n",
       "      <td>4340.000000</td>\n",
       "      <td>4.340000e+03</td>\n",
       "      <td>4340.000000</td>\n",
       "    </tr>\n",
       "    <tr>\n",
       "      <th>mean</th>\n",
       "      <td>2013.090783</td>\n",
       "      <td>5.041273e+05</td>\n",
       "      <td>66215.777419</td>\n",
       "    </tr>\n",
       "    <tr>\n",
       "      <th>std</th>\n",
       "      <td>4.215344</td>\n",
       "      <td>5.785487e+05</td>\n",
       "      <td>46644.102194</td>\n",
       "    </tr>\n",
       "    <tr>\n",
       "      <th>min</th>\n",
       "      <td>1992.000000</td>\n",
       "      <td>2.000000e+04</td>\n",
       "      <td>1.000000</td>\n",
       "    </tr>\n",
       "    <tr>\n",
       "      <th>25%</th>\n",
       "      <td>2011.000000</td>\n",
       "      <td>2.087498e+05</td>\n",
       "      <td>35000.000000</td>\n",
       "    </tr>\n",
       "    <tr>\n",
       "      <th>50%</th>\n",
       "      <td>2014.000000</td>\n",
       "      <td>3.500000e+05</td>\n",
       "      <td>60000.000000</td>\n",
       "    </tr>\n",
       "    <tr>\n",
       "      <th>75%</th>\n",
       "      <td>2016.000000</td>\n",
       "      <td>6.000000e+05</td>\n",
       "      <td>90000.000000</td>\n",
       "    </tr>\n",
       "    <tr>\n",
       "      <th>max</th>\n",
       "      <td>2020.000000</td>\n",
       "      <td>8.900000e+06</td>\n",
       "      <td>806599.000000</td>\n",
       "    </tr>\n",
       "  </tbody>\n",
       "</table>\n",
       "</div>"
      ],
      "text/plain": [
       "              year  selling_price      km_driven\n",
       "count  4340.000000   4.340000e+03    4340.000000\n",
       "mean   2013.090783   5.041273e+05   66215.777419\n",
       "std       4.215344   5.785487e+05   46644.102194\n",
       "min    1992.000000   2.000000e+04       1.000000\n",
       "25%    2011.000000   2.087498e+05   35000.000000\n",
       "50%    2014.000000   3.500000e+05   60000.000000\n",
       "75%    2016.000000   6.000000e+05   90000.000000\n",
       "max    2020.000000   8.900000e+06  806599.000000"
      ]
     },
     "execution_count": 7,
     "metadata": {},
     "output_type": "execute_result"
    }
   ],
   "source": [
    "df.describe() #Gives count,mean,min,max,etc... for columns "
   ]
  },
  {
   "cell_type": "code",
   "execution_count": 8,
   "metadata": {},
   "outputs": [
    {
     "name": "stdout",
     "output_type": "stream",
     "text": [
      "Owners: ['First Owner' 'Second Owner' 'Fourth & Above Owner' 'Third Owner'\n",
      " 'Test Drive Car']\n",
      "Seller_type: ['Individual' 'Dealer' 'Trustmark Dealer']\n",
      "Fuels: ['Petrol' 'Diesel' 'CNG' 'LPG' 'Electric']\n"
     ]
    }
   ],
   "source": [
    "print(\"Owners:\",df['owner'].unique())\n",
    "print(\"Seller_type:\",df['seller_type'].unique())   #Printing the unique values of owner,seller,fuel types\n",
    "print(\"Fuels:\",df['fuel'].unique())                         "
   ]
  },
  {
   "cell_type": "markdown",
   "metadata": {},
   "source": [
    "## visualization "
   ]
  },
  {
   "cell_type": "code",
   "execution_count": 9,
   "metadata": {},
   "outputs": [
    {
     "data": {
      "text/plain": [
       "<AxesSubplot:xlabel='owner', ylabel='count'>"
      ]
     },
     "execution_count": 9,
     "metadata": {},
     "output_type": "execute_result"
    },
    {
     "data": {
      "image/png": "[encoded data removed]",
      "text/plain": [
       "<Figure size 720x288 with 1 Axes>"
      ]
     },
     "metadata": {
      "needs_background": "light"
     },
     "output_type": "display_data"
    }
   ],
   "source": [
    "plt.figure(figsize=(10,4))\n",
    "sns.countplot(x=df['owner'])"
   ]
  },
  {
   "cell_type": "code",
   "execution_count": 10,
   "metadata": {},
   "outputs": [
    {
     "data": {
      "text/plain": [
       "<AxesSubplot:xlabel='fuel', ylabel='count'>"
      ]
     },
     "execution_count": 10,
     "metadata": {},
     "output_type": "execute_result"
    },
    {
     "data": {
      "image/png": "[encoded data removed]",
      "text/plain": [
       "<Figure size 432x288 with 1 Axes>"
      ]
     },
     "metadata": {
      "needs_background": "light"
     },
     "output_type": "display_data"
    }
   ],
   "source": [
    "sns.countplot(x=df['fuel'])"
   ]
  },
  {
   "cell_type": "code",
   "execution_count": 11,
   "metadata": {},
   "outputs": [
    {
     "data": {
      "text/plain": [
       "Diesel      2153\n",
       "Petrol      2123\n",
       "CNG           40\n",
       "LPG           23\n",
       "Electric       1\n",
       "Name: fuel, dtype: int64"
      ]
     },
     "execution_count": 11,
     "metadata": {},
     "output_type": "execute_result"
    }
   ],
   "source": [
    "df['fuel'].value_counts()"
   ]
  },
  {
   "cell_type": "code",
   "execution_count": 12,
   "metadata": {},
   "outputs": [],
   "source": [
    "def column(years):\n",
    "    col=[]\n",
    "    for year in years:\n",
    "        col.append(2021-year)   #Creating a column years old to store the cars age\n",
    "        \n",
    "    return col\n",
    "\n",
    "df[\"years_old\"]=column(df[\"year\"])"
   ]
  },
  {
   "cell_type": "code",
   "execution_count": 13,
   "metadata": {},
   "outputs": [],
   "source": [
    "df.drop(['year'],axis=1,inplace=True)"
   ]
  },
  {
   "cell_type": "code",
   "execution_count": 14,
   "metadata": {},
   "outputs": [
    {
     "data": {
      "text/html": [
       "<div>\n",
       "<style scoped>\n",
       "    .dataframe tbody tr th:only-of-type {\n",
       "        vertical-align: middle;\n",
       "    }\n",
       "\n",
       "    .dataframe tbody tr th {\n",
       "        vertical-align: top;\n",
       "    }\n",
       "\n",
       "    .dataframe thead th {\n",
       "        text-align: right;\n",
       "    }\n",
       "</style>\n",
       "<table border=\"1\" class=\"dataframe\">\n",
       "  <thead>\n",
       "    <tr style=\"text-align: right;\">\n",
       "      <th></th>\n",
       "      <th>name</th>\n",
       "      <th>selling_price</th>\n",
       "      <th>km_driven</th>\n",
       "      <th>fuel</th>\n",
       "      <th>seller_type</th>\n",
       "      <th>transmission</th>\n",
       "      <th>owner</th>\n",
       "      <th>years_old</th>\n",
       "    </tr>\n",
       "  </thead>\n",
       "  <tbody>\n",
       "    <tr>\n",
       "      <th>0</th>\n",
       "      <td>Maruti 800 AC</td>\n",
       "      <td>60000</td>\n",
       "      <td>70000</td>\n",
       "      <td>Petrol</td>\n",
       "      <td>Individual</td>\n",
       "      <td>Manual</td>\n",
       "      <td>First Owner</td>\n",
       "      <td>14</td>\n",
       "    </tr>\n",
       "    <tr>\n",
       "      <th>1</th>\n",
       "      <td>Maruti Wagon R LXI Minor</td>\n",
       "      <td>135000</td>\n",
       "      <td>50000</td>\n",
       "      <td>Petrol</td>\n",
       "      <td>Individual</td>\n",
       "      <td>Manual</td>\n",
       "      <td>First Owner</td>\n",
       "      <td>14</td>\n",
       "    </tr>\n",
       "    <tr>\n",
       "      <th>2</th>\n",
       "      <td>Hyundai Verna 1.6 SX</td>\n",
       "      <td>600000</td>\n",
       "      <td>100000</td>\n",
       "      <td>Diesel</td>\n",
       "      <td>Individual</td>\n",
       "      <td>Manual</td>\n",
       "      <td>First Owner</td>\n",
       "      <td>9</td>\n",
       "    </tr>\n",
       "    <tr>\n",
       "      <th>3</th>\n",
       "      <td>Datsun RediGO T Option</td>\n",
       "      <td>250000</td>\n",
       "      <td>46000</td>\n",
       "      <td>Petrol</td>\n",
       "      <td>Individual</td>\n",
       "      <td>Manual</td>\n",
       "      <td>First Owner</td>\n",
       "      <td>4</td>\n",
       "    </tr>\n",
       "    <tr>\n",
       "      <th>4</th>\n",
       "      <td>Honda Amaze VX i-DTEC</td>\n",
       "      <td>450000</td>\n",
       "      <td>141000</td>\n",
       "      <td>Diesel</td>\n",
       "      <td>Individual</td>\n",
       "      <td>Manual</td>\n",
       "      <td>Second Owner</td>\n",
       "      <td>7</td>\n",
       "    </tr>\n",
       "  </tbody>\n",
       "</table>\n",
       "</div>"
      ],
      "text/plain": [
       "                       name  selling_price  km_driven    fuel seller_type  \\\n",
       "0             Maruti 800 AC          60000      70000  Petrol  Individual   \n",
       "1  Maruti Wagon R LXI Minor         135000      50000  Petrol  Individual   \n",
       "2      Hyundai Verna 1.6 SX         600000     100000  Diesel  Individual   \n",
       "3    Datsun RediGO T Option         250000      46000  Petrol  Individual   \n",
       "4     Honda Amaze VX i-DTEC         450000     141000  Diesel  Individual   \n",
       "\n",
       "  transmission         owner  years_old  \n",
       "0       Manual   First Owner         14  \n",
       "1       Manual   First Owner         14  \n",
       "2       Manual   First Owner          9  \n",
       "3       Manual   First Owner          4  \n",
       "4       Manual  Second Owner          7  "
      ]
     },
     "execution_count": 14,
     "metadata": {},
     "output_type": "execute_result"
    }
   ],
   "source": [
    "df.head()"
   ]
  },
  {
   "cell_type": "code",
   "execution_count": 15,
   "metadata": {},
   "outputs": [],
   "source": [
    "df.drop([\"name\"],axis=1,inplace=True)"
   ]
  },
  {
   "cell_type": "code",
   "execution_count": 16,
   "metadata": {},
   "outputs": [],
   "source": [
    "df=pd.get_dummies(df,drop_first=True)"
   ]
  },
  {
   "cell_type": "code",
   "execution_count": 17,
   "metadata": {},
   "outputs": [
    {
     "data": {
      "text/html": [
       "<div>\n",
       "<style scoped>\n",
       "    .dataframe tbody tr th:only-of-type {\n",
       "        vertical-align: middle;\n",
       "    }\n",
       "\n",
       "    .dataframe tbody tr th {\n",
       "        vertical-align: top;\n",
       "    }\n",
       "\n",
       "    .dataframe thead th {\n",
       "        text-align: right;\n",
       "    }\n",
       "</style>\n",
       "<table border=\"1\" class=\"dataframe\">\n",
       "  <thead>\n",
       "    <tr style=\"text-align: right;\">\n",
       "      <th></th>\n",
       "      <th>selling_price</th>\n",
       "      <th>km_driven</th>\n",
       "      <th>years_old</th>\n",
       "      <th>fuel_Diesel</th>\n",
       "      <th>fuel_Electric</th>\n",
       "      <th>fuel_LPG</th>\n",
       "      <th>fuel_Petrol</th>\n",
       "      <th>seller_type_Individual</th>\n",
       "      <th>seller_type_Trustmark Dealer</th>\n",
       "      <th>transmission_Manual</th>\n",
       "      <th>owner_Fourth &amp; Above Owner</th>\n",
       "      <th>owner_Second Owner</th>\n",
       "      <th>owner_Test Drive Car</th>\n",
       "      <th>owner_Third Owner</th>\n",
       "    </tr>\n",
       "  </thead>\n",
       "  <tbody>\n",
       "    <tr>\n",
       "      <th>0</th>\n",
       "      <td>60000</td>\n",
       "      <td>70000</td>\n",
       "      <td>14</td>\n",
       "      <td>0</td>\n",
       "      <td>0</td>\n",
       "      <td>0</td>\n",
       "      <td>1</td>\n",
       "      <td>1</td>\n",
       "      <td>0</td>\n",
       "      <td>1</td>\n",
       "      <td>0</td>\n",
       "      <td>0</td>\n",
       "      <td>0</td>\n",
       "      <td>0</td>\n",
       "    </tr>\n",
       "    <tr>\n",
       "      <th>1</th>\n",
       "      <td>135000</td>\n",
       "      <td>50000</td>\n",
       "      <td>14</td>\n",
       "      <td>0</td>\n",
       "      <td>0</td>\n",
       "      <td>0</td>\n",
       "      <td>1</td>\n",
       "      <td>1</td>\n",
       "      <td>0</td>\n",
       "      <td>1</td>\n",
       "      <td>0</td>\n",
       "      <td>0</td>\n",
       "      <td>0</td>\n",
       "      <td>0</td>\n",
       "    </tr>\n",
       "    <tr>\n",
       "      <th>2</th>\n",
       "      <td>600000</td>\n",
       "      <td>100000</td>\n",
       "      <td>9</td>\n",
       "      <td>1</td>\n",
       "      <td>0</td>\n",
       "      <td>0</td>\n",
       "      <td>0</td>\n",
       "      <td>1</td>\n",
       "      <td>0</td>\n",
       "      <td>1</td>\n",
       "      <td>0</td>\n",
       "      <td>0</td>\n",
       "      <td>0</td>\n",
       "      <td>0</td>\n",
       "    </tr>\n",
       "    <tr>\n",
       "      <th>3</th>\n",
       "      <td>250000</td>\n",
       "      <td>46000</td>\n",
       "      <td>4</td>\n",
       "      <td>0</td>\n",
       "      <td>0</td>\n",
       "      <td>0</td>\n",
       "      <td>1</td>\n",
       "      <td>1</td>\n",
       "      <td>0</td>\n",
       "      <td>1</td>\n",
       "      <td>0</td>\n",
       "      <td>0</td>\n",
       "      <td>0</td>\n",
       "      <td>0</td>\n",
       "    </tr>\n",
       "    <tr>\n",
       "      <th>4</th>\n",
       "      <td>450000</td>\n",
       "      <td>141000</td>\n",
       "      <td>7</td>\n",
       "      <td>1</td>\n",
       "      <td>0</td>\n",
       "      <td>0</td>\n",
       "      <td>0</td>\n",
       "      <td>1</td>\n",
       "      <td>0</td>\n",
       "      <td>1</td>\n",
       "      <td>0</td>\n",
       "      <td>1</td>\n",
       "      <td>0</td>\n",
       "      <td>0</td>\n",
       "    </tr>\n",
       "    <tr>\n",
       "      <th>...</th>\n",
       "      <td>...</td>\n",
       "      <td>...</td>\n",
       "      <td>...</td>\n",
       "      <td>...</td>\n",
       "      <td>...</td>\n",
       "      <td>...</td>\n",
       "      <td>...</td>\n",
       "      <td>...</td>\n",
       "      <td>...</td>\n",
       "      <td>...</td>\n",
       "      <td>...</td>\n",
       "      <td>...</td>\n",
       "      <td>...</td>\n",
       "      <td>...</td>\n",
       "    </tr>\n",
       "    <tr>\n",
       "      <th>4335</th>\n",
       "      <td>409999</td>\n",
       "      <td>80000</td>\n",
       "      <td>7</td>\n",
       "      <td>1</td>\n",
       "      <td>0</td>\n",
       "      <td>0</td>\n",
       "      <td>0</td>\n",
       "      <td>1</td>\n",
       "      <td>0</td>\n",
       "      <td>1</td>\n",
       "      <td>0</td>\n",
       "      <td>1</td>\n",
       "      <td>0</td>\n",
       "      <td>0</td>\n",
       "    </tr>\n",
       "    <tr>\n",
       "      <th>4336</th>\n",
       "      <td>409999</td>\n",
       "      <td>80000</td>\n",
       "      <td>7</td>\n",
       "      <td>1</td>\n",
       "      <td>0</td>\n",
       "      <td>0</td>\n",
       "      <td>0</td>\n",
       "      <td>1</td>\n",
       "      <td>0</td>\n",
       "      <td>1</td>\n",
       "      <td>0</td>\n",
       "      <td>1</td>\n",
       "      <td>0</td>\n",
       "      <td>0</td>\n",
       "    </tr>\n",
       "    <tr>\n",
       "      <th>4337</th>\n",
       "      <td>110000</td>\n",
       "      <td>83000</td>\n",
       "      <td>12</td>\n",
       "      <td>0</td>\n",
       "      <td>0</td>\n",
       "      <td>0</td>\n",
       "      <td>1</td>\n",
       "      <td>1</td>\n",
       "      <td>0</td>\n",
       "      <td>1</td>\n",
       "      <td>0</td>\n",
       "      <td>1</td>\n",
       "      <td>0</td>\n",
       "      <td>0</td>\n",
       "    </tr>\n",
       "    <tr>\n",
       "      <th>4338</th>\n",
       "      <td>865000</td>\n",
       "      <td>90000</td>\n",
       "      <td>5</td>\n",
       "      <td>1</td>\n",
       "      <td>0</td>\n",
       "      <td>0</td>\n",
       "      <td>0</td>\n",
       "      <td>1</td>\n",
       "      <td>0</td>\n",
       "      <td>1</td>\n",
       "      <td>0</td>\n",
       "      <td>0</td>\n",
       "      <td>0</td>\n",
       "      <td>0</td>\n",
       "    </tr>\n",
       "    <tr>\n",
       "      <th>4339</th>\n",
       "      <td>225000</td>\n",
       "      <td>40000</td>\n",
       "      <td>5</td>\n",
       "      <td>0</td>\n",
       "      <td>0</td>\n",
       "      <td>0</td>\n",
       "      <td>1</td>\n",
       "      <td>1</td>\n",
       "      <td>0</td>\n",
       "      <td>1</td>\n",
       "      <td>0</td>\n",
       "      <td>0</td>\n",
       "      <td>0</td>\n",
       "      <td>0</td>\n",
       "    </tr>\n",
       "  </tbody>\n",
       "</table>\n",
       "<p>4340 rows × 14 columns</p>\n",
       "</div>"
      ],
      "text/plain": [
       "      selling_price  km_driven  years_old  fuel_Diesel  fuel_Electric  \\\n",
       "0             60000      70000         14            0              0   \n",
       "1            135000      50000         14            0              0   \n",
       "2            600000     100000          9            1              0   \n",
       "3            250000      46000          4            0              0   \n",
       "4            450000     141000          7            1              0   \n",
       "...             ...        ...        ...          ...            ...   \n",
       "4335         409999      80000          7            1              0   \n",
       "4336         409999      80000          7            1              0   \n",
       "4337         110000      83000         12            0              0   \n",
       "4338         865000      90000          5            1              0   \n",
       "4339         225000      40000          5            0              0   \n",
       "\n",
       "      fuel_LPG  fuel_Petrol  seller_type_Individual  \\\n",
       "0            0            1                       1   \n",
       "1            0            1                       1   \n",
       "2            0            0                       1   \n",
       "3            0            1                       1   \n",
       "4            0            0                       1   \n",
       "...        ...          ...                     ...   \n",
       "4335         0            0                       1   \n",
       "4336         0            0                       1   \n",
       "4337         0            1                       1   \n",
       "4338         0            0                       1   \n",
       "4339         0            1                       1   \n",
       "\n",
       "      seller_type_Trustmark Dealer  transmission_Manual  \\\n",
       "0                                0                    1   \n",
       "1                                0                    1   \n",
       "2                                0                    1   \n",
       "3                                0                    1   \n",
       "4                                0                    1   \n",
       "...                            ...                  ...   \n",
       "4335                             0                    1   \n",
       "4336                             0                    1   \n",
       "4337                             0                    1   \n",
       "4338                             0                    1   \n",
       "4339                             0                    1   \n",
       "\n",
       "      owner_Fourth & Above Owner  owner_Second Owner  owner_Test Drive Car  \\\n",
       "0                              0                   0                     0   \n",
       "1                              0                   0                     0   \n",
       "2                              0                   0                     0   \n",
       "3                              0                   0                     0   \n",
       "4                              0                   1                     0   \n",
       "...                          ...                 ...                   ...   \n",
       "4335                           0                   1                     0   \n",
       "4336                           0                   1                     0   \n",
       "4337                           0                   1                     0   \n",
       "4338                           0                   0                     0   \n",
       "4339                           0                   0                     0   \n",
       "\n",
       "      owner_Third Owner  \n",
       "0                     0  \n",
       "1                     0  \n",
       "2                     0  \n",
       "3                     0  \n",
       "4                     0  \n",
       "...                 ...  \n",
       "4335                  0  \n",
       "4336                  0  \n",
       "4337                  0  \n",
       "4338                  0  \n",
       "4339                  0  \n",
       "\n",
       "[4340 rows x 14 columns]"
      ]
     },
     "execution_count": 17,
     "metadata": {},
     "output_type": "execute_result"
    }
   ],
   "source": [
    "df"
   ]
  },
  {
   "cell_type": "markdown",
   "metadata": {},
   "source": [
    "## Scatterplots"
   ]
  },
  {
   "cell_type": "code",
   "execution_count": 18,
   "metadata": {},
   "outputs": [
    {
     "data": {
      "text/plain": [
       "<AxesSubplot:xlabel='km_driven', ylabel='selling_price'>"
      ]
     },
     "execution_count": 18,
     "metadata": {},
     "output_type": "execute_result"
    },
    {
     "data": {
      "image/png": "[encoded data removed]",
      "text/plain": [
       "<Figure size 720x360 with 1 Axes>"
      ]
     },
     "metadata": {
      "needs_background": "light"
     },
     "output_type": "display_data"
    }
   ],
   "source": [
    "plt.figure(figsize=(10,5))\n",
    "sns.scatterplot(x=df[\"km_driven\"],y=df[\"selling_price\"])"
   ]
  },
  {
   "cell_type": "code",
   "execution_count": 19,
   "metadata": {},
   "outputs": [
    {
     "data": {
      "text/plain": [
       "<AxesSubplot:xlabel='years_old', ylabel='selling_price'>"
      ]
     },
     "execution_count": 19,
     "metadata": {},
     "output_type": "execute_result"
    },
    {
     "data": {
      "image/png": "[encoded data removed]",
      "text/plain": [
       "<Figure size 720x360 with 1 Axes>"
      ]
     },
     "metadata": {
      "needs_background": "light"
     },
     "output_type": "display_data"
    }
   ],
   "source": [
    "plt.figure(figsize=(10,5))\n",
    "sns.scatterplot(x=df[\"years_old\"],y=df[\"selling_price\"])"
   ]
  },
  {
   "cell_type": "code",
   "execution_count": 20,
   "metadata": {},
   "outputs": [
    {
     "data": {
      "text/html": [
       "<div>\n",
       "<style scoped>\n",
       "    .dataframe tbody tr th:only-of-type {\n",
       "        vertical-align: middle;\n",
       "    }\n",
       "\n",
       "    .dataframe tbody tr th {\n",
       "        vertical-align: top;\n",
       "    }\n",
       "\n",
       "    .dataframe thead th {\n",
       "        text-align: right;\n",
       "    }\n",
       "</style>\n",
       "<table border=\"1\" class=\"dataframe\">\n",
       "  <thead>\n",
       "    <tr style=\"text-align: right;\">\n",
       "      <th></th>\n",
       "      <th>selling_price</th>\n",
       "      <th>km_driven</th>\n",
       "      <th>years_old</th>\n",
       "      <th>fuel_Diesel</th>\n",
       "      <th>fuel_Electric</th>\n",
       "      <th>fuel_LPG</th>\n",
       "      <th>fuel_Petrol</th>\n",
       "      <th>seller_type_Individual</th>\n",
       "      <th>seller_type_Trustmark Dealer</th>\n",
       "      <th>transmission_Manual</th>\n",
       "      <th>owner_Fourth &amp; Above Owner</th>\n",
       "      <th>owner_Second Owner</th>\n",
       "      <th>owner_Test Drive Car</th>\n",
       "      <th>owner_Third Owner</th>\n",
       "    </tr>\n",
       "  </thead>\n",
       "  <tbody>\n",
       "    <tr>\n",
       "      <th>selling_price</th>\n",
       "      <td>1.000000</td>\n",
       "      <td>-0.192289</td>\n",
       "      <td>-0.413922</td>\n",
       "      <td>0.282947</td>\n",
       "      <td>-0.005095</td>\n",
       "      <td>-0.042434</td>\n",
       "      <td>-0.269453</td>\n",
       "      <td>-0.236798</td>\n",
       "      <td>0.110176</td>\n",
       "      <td>-0.530205</td>\n",
       "      <td>-0.078725</td>\n",
       "      <td>-0.161986</td>\n",
       "      <td>0.048799</td>\n",
       "      <td>-0.111326</td>\n",
       "    </tr>\n",
       "    <tr>\n",
       "      <th>km_driven</th>\n",
       "      <td>-0.192289</td>\n",
       "      <td>1.000000</td>\n",
       "      <td>0.419688</td>\n",
       "      <td>0.285396</td>\n",
       "      <td>-0.001372</td>\n",
       "      <td>0.036652</td>\n",
       "      <td>-0.291139</td>\n",
       "      <td>0.182663</td>\n",
       "      <td>-0.089858</td>\n",
       "      <td>0.120226</td>\n",
       "      <td>0.097349</td>\n",
       "      <td>0.195203</td>\n",
       "      <td>-0.083445</td>\n",
       "      <td>0.194713</td>\n",
       "    </tr>\n",
       "    <tr>\n",
       "      <th>years_old</th>\n",
       "      <td>-0.413922</td>\n",
       "      <td>0.419688</td>\n",
       "      <td>1.000000</td>\n",
       "      <td>-0.121424</td>\n",
       "      <td>0.025540</td>\n",
       "      <td>0.051266</td>\n",
       "      <td>0.114908</td>\n",
       "      <td>0.173703</td>\n",
       "      <td>-0.100225</td>\n",
       "      <td>0.143800</td>\n",
       "      <td>0.186361</td>\n",
       "      <td>0.292349</td>\n",
       "      <td>-0.095795</td>\n",
       "      <td>0.244308</td>\n",
       "    </tr>\n",
       "    <tr>\n",
       "      <th>fuel_Diesel</th>\n",
       "      <td>0.282947</td>\n",
       "      <td>0.285396</td>\n",
       "      <td>-0.121424</td>\n",
       "      <td>1.000000</td>\n",
       "      <td>-0.015063</td>\n",
       "      <td>-0.072422</td>\n",
       "      <td>-0.970934</td>\n",
       "      <td>-0.035314</td>\n",
       "      <td>-0.007911</td>\n",
       "      <td>-0.048098</td>\n",
       "      <td>-0.021054</td>\n",
       "      <td>0.003524</td>\n",
       "      <td>-0.010575</td>\n",
       "      <td>0.009373</td>\n",
       "    </tr>\n",
       "    <tr>\n",
       "      <th>fuel_Electric</th>\n",
       "      <td>-0.005095</td>\n",
       "      <td>-0.001372</td>\n",
       "      <td>0.025540</td>\n",
       "      <td>-0.015063</td>\n",
       "      <td>1.000000</td>\n",
       "      <td>-0.001108</td>\n",
       "      <td>-0.014856</td>\n",
       "      <td>-0.026118</td>\n",
       "      <td>-0.002355</td>\n",
       "      <td>-0.044746</td>\n",
       "      <td>-0.002094</td>\n",
       "      <td>0.025960</td>\n",
       "      <td>-0.000952</td>\n",
       "      <td>-0.004166</td>\n",
       "    </tr>\n",
       "    <tr>\n",
       "      <th>fuel_LPG</th>\n",
       "      <td>-0.042434</td>\n",
       "      <td>0.036652</td>\n",
       "      <td>0.051266</td>\n",
       "      <td>-0.072422</td>\n",
       "      <td>-0.001108</td>\n",
       "      <td>1.000000</td>\n",
       "      <td>-0.071427</td>\n",
       "      <td>0.035122</td>\n",
       "      <td>-0.011324</td>\n",
       "      <td>0.024764</td>\n",
       "      <td>0.013384</td>\n",
       "      <td>0.030141</td>\n",
       "      <td>-0.004577</td>\n",
       "      <td>0.004836</td>\n",
       "    </tr>\n",
       "    <tr>\n",
       "      <th>fuel_Petrol</th>\n",
       "      <td>-0.269453</td>\n",
       "      <td>-0.291139</td>\n",
       "      <td>0.114908</td>\n",
       "      <td>-0.970934</td>\n",
       "      <td>-0.014856</td>\n",
       "      <td>-0.071427</td>\n",
       "      <td>1.000000</td>\n",
       "      <td>0.029845</td>\n",
       "      <td>0.012489</td>\n",
       "      <td>0.039614</td>\n",
       "      <td>0.011502</td>\n",
       "      <td>-0.012717</td>\n",
       "      <td>0.012427</td>\n",
       "      <td>-0.008502</td>\n",
       "    </tr>\n",
       "    <tr>\n",
       "      <th>seller_type_Individual</th>\n",
       "      <td>-0.236798</td>\n",
       "      <td>0.182663</td>\n",
       "      <td>0.173703</td>\n",
       "      <td>-0.035314</td>\n",
       "      <td>-0.026118</td>\n",
       "      <td>0.035122</td>\n",
       "      <td>0.029845</td>\n",
       "      <td>1.000000</td>\n",
       "      <td>-0.266904</td>\n",
       "      <td>0.214163</td>\n",
       "      <td>0.072322</td>\n",
       "      <td>0.186573</td>\n",
       "      <td>-0.107886</td>\n",
       "      <td>0.140823</td>\n",
       "    </tr>\n",
       "    <tr>\n",
       "      <th>seller_type_Trustmark Dealer</th>\n",
       "      <td>0.110176</td>\n",
       "      <td>-0.089858</td>\n",
       "      <td>-0.100225</td>\n",
       "      <td>-0.007911</td>\n",
       "      <td>-0.002355</td>\n",
       "      <td>-0.011324</td>\n",
       "      <td>0.012489</td>\n",
       "      <td>-0.266904</td>\n",
       "      <td>1.000000</td>\n",
       "      <td>-0.042346</td>\n",
       "      <td>-0.021395</td>\n",
       "      <td>-0.076764</td>\n",
       "      <td>-0.009729</td>\n",
       "      <td>-0.042578</td>\n",
       "    </tr>\n",
       "    <tr>\n",
       "      <th>transmission_Manual</th>\n",
       "      <td>-0.530205</td>\n",
       "      <td>0.120226</td>\n",
       "      <td>0.143800</td>\n",
       "      <td>-0.048098</td>\n",
       "      <td>-0.044746</td>\n",
       "      <td>0.024764</td>\n",
       "      <td>0.039614</td>\n",
       "      <td>0.214163</td>\n",
       "      <td>-0.042346</td>\n",
       "      <td>1.000000</td>\n",
       "      <td>0.035597</td>\n",
       "      <td>0.068068</td>\n",
       "      <td>0.009152</td>\n",
       "      <td>0.030802</td>\n",
       "    </tr>\n",
       "    <tr>\n",
       "      <th>owner_Fourth &amp; Above Owner</th>\n",
       "      <td>-0.078725</td>\n",
       "      <td>0.097349</td>\n",
       "      <td>0.186361</td>\n",
       "      <td>-0.021054</td>\n",
       "      <td>-0.002094</td>\n",
       "      <td>0.013384</td>\n",
       "      <td>0.011502</td>\n",
       "      <td>0.072322</td>\n",
       "      <td>-0.021395</td>\n",
       "      <td>0.035597</td>\n",
       "      <td>1.000000</td>\n",
       "      <td>-0.080648</td>\n",
       "      <td>-0.008648</td>\n",
       "      <td>-0.037849</td>\n",
       "    </tr>\n",
       "    <tr>\n",
       "      <th>owner_Second Owner</th>\n",
       "      <td>-0.161986</td>\n",
       "      <td>0.195203</td>\n",
       "      <td>0.292349</td>\n",
       "      <td>0.003524</td>\n",
       "      <td>0.025960</td>\n",
       "      <td>0.030141</td>\n",
       "      <td>-0.012717</td>\n",
       "      <td>0.186573</td>\n",
       "      <td>-0.076764</td>\n",
       "      <td>0.068068</td>\n",
       "      <td>-0.080648</td>\n",
       "      <td>1.000000</td>\n",
       "      <td>-0.036672</td>\n",
       "      <td>-0.160498</td>\n",
       "    </tr>\n",
       "    <tr>\n",
       "      <th>owner_Test Drive Car</th>\n",
       "      <td>0.048799</td>\n",
       "      <td>-0.083445</td>\n",
       "      <td>-0.095795</td>\n",
       "      <td>-0.010575</td>\n",
       "      <td>-0.000952</td>\n",
       "      <td>-0.004577</td>\n",
       "      <td>0.012427</td>\n",
       "      <td>-0.107886</td>\n",
       "      <td>-0.009729</td>\n",
       "      <td>0.009152</td>\n",
       "      <td>-0.008648</td>\n",
       "      <td>-0.036672</td>\n",
       "      <td>1.000000</td>\n",
       "      <td>-0.017210</td>\n",
       "    </tr>\n",
       "    <tr>\n",
       "      <th>owner_Third Owner</th>\n",
       "      <td>-0.111326</td>\n",
       "      <td>0.194713</td>\n",
       "      <td>0.244308</td>\n",
       "      <td>0.009373</td>\n",
       "      <td>-0.004166</td>\n",
       "      <td>0.004836</td>\n",
       "      <td>-0.008502</td>\n",
       "      <td>0.140823</td>\n",
       "      <td>-0.042578</td>\n",
       "      <td>0.030802</td>\n",
       "      <td>-0.037849</td>\n",
       "      <td>-0.160498</td>\n",
       "      <td>-0.017210</td>\n",
       "      <td>1.000000</td>\n",
       "    </tr>\n",
       "  </tbody>\n",
       "</table>\n",
       "</div>"
      ],
      "text/plain": [
       "                              selling_price  km_driven  years_old  \\\n",
       "selling_price                      1.000000  -0.192289  -0.413922   \n",
       "km_driven                         -0.192289   1.000000   0.419688   \n",
       "years_old                         -0.413922   0.419688   1.000000   \n",
       "fuel_Diesel                        0.282947   0.285396  -0.121424   \n",
       "fuel_Electric                     -0.005095  -0.001372   0.025540   \n",
       "fuel_LPG                          -0.042434   0.036652   0.051266   \n",
       "fuel_Petrol                       -0.269453  -0.291139   0.114908   \n",
       "seller_type_Individual            -0.236798   0.182663   0.173703   \n",
       "seller_type_Trustmark Dealer       0.110176  -0.089858  -0.100225   \n",
       "transmission_Manual               -0.530205   0.120226   0.143800   \n",
       "owner_Fourth & Above Owner        -0.078725   0.097349   0.186361   \n",
       "owner_Second Owner                -0.161986   0.195203   0.292349   \n",
       "owner_Test Drive Car               0.048799  -0.083445  -0.095795   \n",
       "owner_Third Owner                 -0.111326   0.194713   0.244308   \n",
       "\n",
       "                              fuel_Diesel  fuel_Electric  fuel_LPG  \\\n",
       "selling_price                    0.282947      -0.005095 -0.042434   \n",
       "km_driven                        0.285396      -0.001372  0.036652   \n",
       "years_old                       -0.121424       0.025540  0.051266   \n",
       "fuel_Diesel                      1.000000      -0.015063 -0.072422   \n",
       "fuel_Electric                   -0.015063       1.000000 -0.001108   \n",
       "fuel_LPG                        -0.072422      -0.001108  1.000000   \n",
       "fuel_Petrol                     -0.970934      -0.014856 -0.071427   \n",
       "seller_type_Individual          -0.035314      -0.026118  0.035122   \n",
       "seller_type_Trustmark Dealer    -0.007911      -0.002355 -0.011324   \n",
       "transmission_Manual             -0.048098      -0.044746  0.024764   \n",
       "owner_Fourth & Above Owner      -0.021054      -0.002094  0.013384   \n",
       "owner_Second Owner               0.003524       0.025960  0.030141   \n",
       "owner_Test Drive Car            -0.010575      -0.000952 -0.004577   \n",
       "owner_Third Owner                0.009373      -0.004166  0.004836   \n",
       "\n",
       "                              fuel_Petrol  seller_type_Individual  \\\n",
       "selling_price                   -0.269453               -0.236798   \n",
       "km_driven                       -0.291139                0.182663   \n",
       "years_old                        0.114908                0.173703   \n",
       "fuel_Diesel                     -0.970934               -0.035314   \n",
       "fuel_Electric                   -0.014856               -0.026118   \n",
       "fuel_LPG                        -0.071427                0.035122   \n",
       "fuel_Petrol                      1.000000                0.029845   \n",
       "seller_type_Individual           0.029845                1.000000   \n",
       "seller_type_Trustmark Dealer     0.012489               -0.266904   \n",
       "transmission_Manual              0.039614                0.214163   \n",
       "owner_Fourth & Above Owner       0.011502                0.072322   \n",
       "owner_Second Owner              -0.012717                0.186573   \n",
       "owner_Test Drive Car             0.012427               -0.107886   \n",
       "owner_Third Owner               -0.008502                0.140823   \n",
       "\n",
       "                              seller_type_Trustmark Dealer  \\\n",
       "selling_price                                     0.110176   \n",
       "km_driven                                        -0.089858   \n",
       "years_old                                        -0.100225   \n",
       "fuel_Diesel                                      -0.007911   \n",
       "fuel_Electric                                    -0.002355   \n",
       "fuel_LPG                                         -0.011324   \n",
       "fuel_Petrol                                       0.012489   \n",
       "seller_type_Individual                           -0.266904   \n",
       "seller_type_Trustmark Dealer                      1.000000   \n",
       "transmission_Manual                              -0.042346   \n",
       "owner_Fourth & Above Owner                       -0.021395   \n",
       "owner_Second Owner                               -0.076764   \n",
       "owner_Test Drive Car                             -0.009729   \n",
       "owner_Third Owner                                -0.042578   \n",
       "\n",
       "                              transmission_Manual  owner_Fourth & Above Owner  \\\n",
       "selling_price                           -0.530205                   -0.078725   \n",
       "km_driven                                0.120226                    0.097349   \n",
       "years_old                                0.143800                    0.186361   \n",
       "fuel_Diesel                             -0.048098                   -0.021054   \n",
       "fuel_Electric                           -0.044746                   -0.002094   \n",
       "fuel_LPG                                 0.024764                    0.013384   \n",
       "fuel_Petrol                              0.039614                    0.011502   \n",
       "seller_type_Individual                   0.214163                    0.072322   \n",
       "seller_type_Trustmark Dealer            -0.042346                   -0.021395   \n",
       "transmission_Manual                      1.000000                    0.035597   \n",
       "owner_Fourth & Above Owner               0.035597                    1.000000   \n",
       "owner_Second Owner                       0.068068                   -0.080648   \n",
       "owner_Test Drive Car                     0.009152                   -0.008648   \n",
       "owner_Third Owner                        0.030802                   -0.037849   \n",
       "\n",
       "                              owner_Second Owner  owner_Test Drive Car  \\\n",
       "selling_price                          -0.161986              0.048799   \n",
       "km_driven                               0.195203             -0.083445   \n",
       "years_old                               0.292349             -0.095795   \n",
       "fuel_Diesel                             0.003524             -0.010575   \n",
       "fuel_Electric                           0.025960             -0.000952   \n",
       "fuel_LPG                                0.030141             -0.004577   \n",
       "fuel_Petrol                            -0.012717              0.012427   \n",
       "seller_type_Individual                  0.186573             -0.107886   \n",
       "seller_type_Trustmark Dealer           -0.076764             -0.009729   \n",
       "transmission_Manual                     0.068068              0.009152   \n",
       "owner_Fourth & Above Owner             -0.080648             -0.008648   \n",
       "owner_Second Owner                      1.000000             -0.036672   \n",
       "owner_Test Drive Car                   -0.036672              1.000000   \n",
       "owner_Third Owner                      -0.160498             -0.017210   \n",
       "\n",
       "                              owner_Third Owner  \n",
       "selling_price                         -0.111326  \n",
       "km_driven                              0.194713  \n",
       "years_old                              0.244308  \n",
       "fuel_Diesel                            0.009373  \n",
       "fuel_Electric                         -0.004166  \n",
       "fuel_LPG                               0.004836  \n",
       "fuel_Petrol                           -0.008502  \n",
       "seller_type_Individual                 0.140823  \n",
       "seller_type_Trustmark Dealer          -0.042578  \n",
       "transmission_Manual                    0.030802  \n",
       "owner_Fourth & Above Owner            -0.037849  \n",
       "owner_Second Owner                    -0.160498  \n",
       "owner_Test Drive Car                  -0.017210  \n",
       "owner_Third Owner                      1.000000  "
      ]
     },
     "execution_count": 20,
     "metadata": {},
     "output_type": "execute_result"
    }
   ],
   "source": [
    "df.corr() #Correlation between the columns in the dataset"
   ]
  },
  {
   "cell_type": "code",
   "execution_count": 21,
   "metadata": {},
   "outputs": [
    {
     "data": {
      "image/png": "[encoded data removed]",
      "text/plain": [
       "<Figure size 720x432 with 2 Axes>"
      ]
     },
     "metadata": {
      "needs_background": "light"
     },
     "output_type": "display_data"
    }
   ],
   "source": [
    "c=df.corr()\n",
    "c_features=c.index\n",
    "plt.figure(figsize=(10,6))\n",
    "#Plot the heatmap\n",
    "h=sns.heatmap(df[c_features].corr(),cmap=\"RdYlGn\")"
   ]
  },
  {
   "cell_type": "raw",
   "metadata": {},
   "source": [
    "The above heatmap shows correlation between every columns in the dataset"
   ]
  },
  {
   "cell_type": "code",
   "execution_count": 22,
   "metadata": {},
   "outputs": [
    {
     "name": "stderr",
     "output_type": "stream",
     "text": [
      "C:\\Users\\Admin\\anaconda3\\lib\\site-packages\\seaborn\\distributions.py:2551: FutureWarning: `distplot` is a deprecated function and will be removed in a future version. Please adapt your code to use either `displot` (a figure-level function with similar flexibility) or `histplot` (an axes-level function for histograms).\n",
      "  warnings.warn(msg, FutureWarning)\n"
     ]
    },
    {
     "data": {
      "text/plain": [
       "<AxesSubplot:xlabel='selling_price', ylabel='Density'>"
      ]
     },
     "execution_count": 22,
     "metadata": {},
     "output_type": "execute_result"
    },
    {
     "data": {
      "image/png": "[encoded data removed]",
      "text/plain": [
       "<Figure size 720x360 with 1 Axes>"
      ]
     },
     "metadata": {
      "needs_background": "light"
     },
     "output_type": "display_data"
    }
   ],
   "source": [
    "plt.figure(figsize=(10,5))\n",
    "sns.distplot(df['selling_price'])"
   ]
  },
  {
   "cell_type": "markdown",
   "metadata": {},
   "source": [
    "## Scaling the dataset  "
   ]
  },
  {
   "cell_type": "code",
   "execution_count": 23,
   "metadata": {},
   "outputs": [],
   "source": [
    "from sklearn.preprocessing import StandardScaler\n",
    "mod=StandardScaler()\n",
    "df_scaled=mod.fit_transform(df)"
   ]
  },
  {
   "cell_type": "code",
   "execution_count": 24,
   "metadata": {},
   "outputs": [
    {
     "data": {
      "text/html": [
       "<div>\n",
       "<style scoped>\n",
       "    .dataframe tbody tr th:only-of-type {\n",
       "        vertical-align: middle;\n",
       "    }\n",
       "\n",
       "    .dataframe tbody tr th {\n",
       "        vertical-align: top;\n",
       "    }\n",
       "\n",
       "    .dataframe thead th {\n",
       "        text-align: right;\n",
       "    }\n",
       "</style>\n",
       "<table border=\"1\" class=\"dataframe\">\n",
       "  <thead>\n",
       "    <tr style=\"text-align: right;\">\n",
       "      <th></th>\n",
       "      <th>selling_price</th>\n",
       "      <th>km_driven</th>\n",
       "      <th>years_old</th>\n",
       "      <th>fuel_Diesel</th>\n",
       "      <th>fuel_Electric</th>\n",
       "      <th>fuel_LPG</th>\n",
       "      <th>fuel_Petrol</th>\n",
       "      <th>seller_type_Individual</th>\n",
       "      <th>seller_type_Trustmark Dealer</th>\n",
       "      <th>transmission_Manual</th>\n",
       "      <th>owner_Fourth &amp; Above Owner</th>\n",
       "      <th>owner_Second Owner</th>\n",
       "      <th>owner_Test Drive Car</th>\n",
       "      <th>owner_Third Owner</th>\n",
       "    </tr>\n",
       "  </thead>\n",
       "  <tbody>\n",
       "    <tr>\n",
       "      <th>0</th>\n",
       "      <td>-0.767746</td>\n",
       "      <td>0.081139</td>\n",
       "      <td>1.445074</td>\n",
       "      <td>-0.992196</td>\n",
       "      <td>-0.015181</td>\n",
       "      <td>-0.072992</td>\n",
       "      <td>1.021899</td>\n",
       "      <td>0.581253</td>\n",
       "      <td>-0.155139</td>\n",
       "      <td>0.339276</td>\n",
       "      <td>-0.137908</td>\n",
       "      <td>-0.584800</td>\n",
       "      <td>-0.062709</td>\n",
       "      <td>-0.274449</td>\n",
       "    </tr>\n",
       "    <tr>\n",
       "      <th>1</th>\n",
       "      <td>-0.638096</td>\n",
       "      <td>-0.347689</td>\n",
       "      <td>1.445074</td>\n",
       "      <td>-0.992196</td>\n",
       "      <td>-0.015181</td>\n",
       "      <td>-0.072992</td>\n",
       "      <td>1.021899</td>\n",
       "      <td>0.581253</td>\n",
       "      <td>-0.155139</td>\n",
       "      <td>0.339276</td>\n",
       "      <td>-0.137908</td>\n",
       "      <td>-0.584800</td>\n",
       "      <td>-0.062709</td>\n",
       "      <td>-0.274449</td>\n",
       "    </tr>\n",
       "    <tr>\n",
       "      <th>2</th>\n",
       "      <td>0.165731</td>\n",
       "      <td>0.724381</td>\n",
       "      <td>0.258795</td>\n",
       "      <td>1.007865</td>\n",
       "      <td>-0.015181</td>\n",
       "      <td>-0.072992</td>\n",
       "      <td>-0.978571</td>\n",
       "      <td>0.581253</td>\n",
       "      <td>-0.155139</td>\n",
       "      <td>0.339276</td>\n",
       "      <td>-0.137908</td>\n",
       "      <td>-0.584800</td>\n",
       "      <td>-0.062709</td>\n",
       "      <td>-0.274449</td>\n",
       "    </tr>\n",
       "    <tr>\n",
       "      <th>3</th>\n",
       "      <td>-0.439300</td>\n",
       "      <td>-0.433455</td>\n",
       "      <td>-0.927485</td>\n",
       "      <td>-0.992196</td>\n",
       "      <td>-0.015181</td>\n",
       "      <td>-0.072992</td>\n",
       "      <td>1.021899</td>\n",
       "      <td>0.581253</td>\n",
       "      <td>-0.155139</td>\n",
       "      <td>0.339276</td>\n",
       "      <td>-0.137908</td>\n",
       "      <td>-0.584800</td>\n",
       "      <td>-0.062709</td>\n",
       "      <td>-0.274449</td>\n",
       "    </tr>\n",
       "    <tr>\n",
       "      <th>4</th>\n",
       "      <td>-0.093568</td>\n",
       "      <td>1.603479</td>\n",
       "      <td>-0.215717</td>\n",
       "      <td>1.007865</td>\n",
       "      <td>-0.015181</td>\n",
       "      <td>-0.072992</td>\n",
       "      <td>-0.978571</td>\n",
       "      <td>0.581253</td>\n",
       "      <td>-0.155139</td>\n",
       "      <td>0.339276</td>\n",
       "      <td>-0.137908</td>\n",
       "      <td>1.709986</td>\n",
       "      <td>-0.062709</td>\n",
       "      <td>-0.274449</td>\n",
       "    </tr>\n",
       "  </tbody>\n",
       "</table>\n",
       "</div>"
      ],
      "text/plain": [
       "   selling_price  km_driven  years_old  fuel_Diesel  fuel_Electric  fuel_LPG  \\\n",
       "0      -0.767746   0.081139   1.445074    -0.992196      -0.015181 -0.072992   \n",
       "1      -0.638096  -0.347689   1.445074    -0.992196      -0.015181 -0.072992   \n",
       "2       0.165731   0.724381   0.258795     1.007865      -0.015181 -0.072992   \n",
       "3      -0.439300  -0.433455  -0.927485    -0.992196      -0.015181 -0.072992   \n",
       "4      -0.093568   1.603479  -0.215717     1.007865      -0.015181 -0.072992   \n",
       "\n",
       "   fuel_Petrol  seller_type_Individual  seller_type_Trustmark Dealer  \\\n",
       "0     1.021899                0.581253                     -0.155139   \n",
       "1     1.021899                0.581253                     -0.155139   \n",
       "2    -0.978571                0.581253                     -0.155139   \n",
       "3     1.021899                0.581253                     -0.155139   \n",
       "4    -0.978571                0.581253                     -0.155139   \n",
       "\n",
       "   transmission_Manual  owner_Fourth & Above Owner  owner_Second Owner  \\\n",
       "0             0.339276                   -0.137908           -0.584800   \n",
       "1             0.339276                   -0.137908           -0.584800   \n",
       "2             0.339276                   -0.137908           -0.584800   \n",
       "3             0.339276                   -0.137908           -0.584800   \n",
       "4             0.339276                   -0.137908            1.709986   \n",
       "\n",
       "   owner_Test Drive Car  owner_Third Owner  \n",
       "0             -0.062709          -0.274449  \n",
       "1             -0.062709          -0.274449  \n",
       "2             -0.062709          -0.274449  \n",
       "3             -0.062709          -0.274449  \n",
       "4             -0.062709          -0.274449  "
      ]
     },
     "execution_count": 24,
     "metadata": {},
     "output_type": "execute_result"
    }
   ],
   "source": [
    "df_scaled=pd.DataFrame(df_scaled,columns=df.columns)\n",
    "df_scaled.head()"
   ]
  },
  {
   "cell_type": "code",
   "execution_count": 25,
   "metadata": {},
   "outputs": [],
   "source": [
    "#Creating dependent and independent variables\n",
    "Y=df_scaled['selling_price']\n",
    "X=df_scaled.iloc[:,1:]"
   ]
  },
  {
   "cell_type": "code",
   "execution_count": 26,
   "metadata": {},
   "outputs": [
    {
     "data": {
      "text/html": [
       "<div>\n",
       "<style scoped>\n",
       "    .dataframe tbody tr th:only-of-type {\n",
       "        vertical-align: middle;\n",
       "    }\n",
       "\n",
       "    .dataframe tbody tr th {\n",
       "        vertical-align: top;\n",
       "    }\n",
       "\n",
       "    .dataframe thead th {\n",
       "        text-align: right;\n",
       "    }\n",
       "</style>\n",
       "<table border=\"1\" class=\"dataframe\">\n",
       "  <thead>\n",
       "    <tr style=\"text-align: right;\">\n",
       "      <th></th>\n",
       "      <th>km_driven</th>\n",
       "      <th>years_old</th>\n",
       "      <th>fuel_Diesel</th>\n",
       "      <th>fuel_Electric</th>\n",
       "      <th>fuel_LPG</th>\n",
       "      <th>fuel_Petrol</th>\n",
       "      <th>seller_type_Individual</th>\n",
       "      <th>seller_type_Trustmark Dealer</th>\n",
       "      <th>transmission_Manual</th>\n",
       "      <th>owner_Fourth &amp; Above Owner</th>\n",
       "      <th>owner_Second Owner</th>\n",
       "      <th>owner_Test Drive Car</th>\n",
       "      <th>owner_Third Owner</th>\n",
       "    </tr>\n",
       "  </thead>\n",
       "  <tbody>\n",
       "    <tr>\n",
       "      <th>0</th>\n",
       "      <td>0.081139</td>\n",
       "      <td>1.445074</td>\n",
       "      <td>-0.992196</td>\n",
       "      <td>-0.015181</td>\n",
       "      <td>-0.072992</td>\n",
       "      <td>1.021899</td>\n",
       "      <td>0.581253</td>\n",
       "      <td>-0.155139</td>\n",
       "      <td>0.339276</td>\n",
       "      <td>-0.137908</td>\n",
       "      <td>-0.584800</td>\n",
       "      <td>-0.062709</td>\n",
       "      <td>-0.274449</td>\n",
       "    </tr>\n",
       "    <tr>\n",
       "      <th>1</th>\n",
       "      <td>-0.347689</td>\n",
       "      <td>1.445074</td>\n",
       "      <td>-0.992196</td>\n",
       "      <td>-0.015181</td>\n",
       "      <td>-0.072992</td>\n",
       "      <td>1.021899</td>\n",
       "      <td>0.581253</td>\n",
       "      <td>-0.155139</td>\n",
       "      <td>0.339276</td>\n",
       "      <td>-0.137908</td>\n",
       "      <td>-0.584800</td>\n",
       "      <td>-0.062709</td>\n",
       "      <td>-0.274449</td>\n",
       "    </tr>\n",
       "    <tr>\n",
       "      <th>2</th>\n",
       "      <td>0.724381</td>\n",
       "      <td>0.258795</td>\n",
       "      <td>1.007865</td>\n",
       "      <td>-0.015181</td>\n",
       "      <td>-0.072992</td>\n",
       "      <td>-0.978571</td>\n",
       "      <td>0.581253</td>\n",
       "      <td>-0.155139</td>\n",
       "      <td>0.339276</td>\n",
       "      <td>-0.137908</td>\n",
       "      <td>-0.584800</td>\n",
       "      <td>-0.062709</td>\n",
       "      <td>-0.274449</td>\n",
       "    </tr>\n",
       "    <tr>\n",
       "      <th>3</th>\n",
       "      <td>-0.433455</td>\n",
       "      <td>-0.927485</td>\n",
       "      <td>-0.992196</td>\n",
       "      <td>-0.015181</td>\n",
       "      <td>-0.072992</td>\n",
       "      <td>1.021899</td>\n",
       "      <td>0.581253</td>\n",
       "      <td>-0.155139</td>\n",
       "      <td>0.339276</td>\n",
       "      <td>-0.137908</td>\n",
       "      <td>-0.584800</td>\n",
       "      <td>-0.062709</td>\n",
       "      <td>-0.274449</td>\n",
       "    </tr>\n",
       "    <tr>\n",
       "      <th>4</th>\n",
       "      <td>1.603479</td>\n",
       "      <td>-0.215717</td>\n",
       "      <td>1.007865</td>\n",
       "      <td>-0.015181</td>\n",
       "      <td>-0.072992</td>\n",
       "      <td>-0.978571</td>\n",
       "      <td>0.581253</td>\n",
       "      <td>-0.155139</td>\n",
       "      <td>0.339276</td>\n",
       "      <td>-0.137908</td>\n",
       "      <td>1.709986</td>\n",
       "      <td>-0.062709</td>\n",
       "      <td>-0.274449</td>\n",
       "    </tr>\n",
       "    <tr>\n",
       "      <th>...</th>\n",
       "      <td>...</td>\n",
       "      <td>...</td>\n",
       "      <td>...</td>\n",
       "      <td>...</td>\n",
       "      <td>...</td>\n",
       "      <td>...</td>\n",
       "      <td>...</td>\n",
       "      <td>...</td>\n",
       "      <td>...</td>\n",
       "      <td>...</td>\n",
       "      <td>...</td>\n",
       "      <td>...</td>\n",
       "      <td>...</td>\n",
       "    </tr>\n",
       "    <tr>\n",
       "      <th>4335</th>\n",
       "      <td>0.295553</td>\n",
       "      <td>-0.215717</td>\n",
       "      <td>1.007865</td>\n",
       "      <td>-0.015181</td>\n",
       "      <td>-0.072992</td>\n",
       "      <td>-0.978571</td>\n",
       "      <td>0.581253</td>\n",
       "      <td>-0.155139</td>\n",
       "      <td>0.339276</td>\n",
       "      <td>-0.137908</td>\n",
       "      <td>1.709986</td>\n",
       "      <td>-0.062709</td>\n",
       "      <td>-0.274449</td>\n",
       "    </tr>\n",
       "    <tr>\n",
       "      <th>4336</th>\n",
       "      <td>0.295553</td>\n",
       "      <td>-0.215717</td>\n",
       "      <td>1.007865</td>\n",
       "      <td>-0.015181</td>\n",
       "      <td>-0.072992</td>\n",
       "      <td>-0.978571</td>\n",
       "      <td>0.581253</td>\n",
       "      <td>-0.155139</td>\n",
       "      <td>0.339276</td>\n",
       "      <td>-0.137908</td>\n",
       "      <td>1.709986</td>\n",
       "      <td>-0.062709</td>\n",
       "      <td>-0.274449</td>\n",
       "    </tr>\n",
       "    <tr>\n",
       "      <th>4337</th>\n",
       "      <td>0.359877</td>\n",
       "      <td>0.970563</td>\n",
       "      <td>-0.992196</td>\n",
       "      <td>-0.015181</td>\n",
       "      <td>-0.072992</td>\n",
       "      <td>1.021899</td>\n",
       "      <td>0.581253</td>\n",
       "      <td>-0.155139</td>\n",
       "      <td>0.339276</td>\n",
       "      <td>-0.137908</td>\n",
       "      <td>1.709986</td>\n",
       "      <td>-0.062709</td>\n",
       "      <td>-0.274449</td>\n",
       "    </tr>\n",
       "    <tr>\n",
       "      <th>4338</th>\n",
       "      <td>0.509967</td>\n",
       "      <td>-0.690229</td>\n",
       "      <td>1.007865</td>\n",
       "      <td>-0.015181</td>\n",
       "      <td>-0.072992</td>\n",
       "      <td>-0.978571</td>\n",
       "      <td>0.581253</td>\n",
       "      <td>-0.155139</td>\n",
       "      <td>0.339276</td>\n",
       "      <td>-0.137908</td>\n",
       "      <td>-0.584800</td>\n",
       "      <td>-0.062709</td>\n",
       "      <td>-0.274449</td>\n",
       "    </tr>\n",
       "    <tr>\n",
       "      <th>4339</th>\n",
       "      <td>-0.562103</td>\n",
       "      <td>-0.690229</td>\n",
       "      <td>-0.992196</td>\n",
       "      <td>-0.015181</td>\n",
       "      <td>-0.072992</td>\n",
       "      <td>1.021899</td>\n",
       "      <td>0.581253</td>\n",
       "      <td>-0.155139</td>\n",
       "      <td>0.339276</td>\n",
       "      <td>-0.137908</td>\n",
       "      <td>-0.584800</td>\n",
       "      <td>-0.062709</td>\n",
       "      <td>-0.274449</td>\n",
       "    </tr>\n",
       "  </tbody>\n",
       "</table>\n",
       "<p>4340 rows × 13 columns</p>\n",
       "</div>"
      ],
      "text/plain": [
       "      km_driven  years_old  fuel_Diesel  fuel_Electric  fuel_LPG  fuel_Petrol  \\\n",
       "0      0.081139   1.445074    -0.992196      -0.015181 -0.072992     1.021899   \n",
       "1     -0.347689   1.445074    -0.992196      -0.015181 -0.072992     1.021899   \n",
       "2      0.724381   0.258795     1.007865      -0.015181 -0.072992    -0.978571   \n",
       "3     -0.433455  -0.927485    -0.992196      -0.015181 -0.072992     1.021899   \n",
       "4      1.603479  -0.215717     1.007865      -0.015181 -0.072992    -0.978571   \n",
       "...         ...        ...          ...            ...       ...          ...   \n",
       "4335   0.295553  -0.215717     1.007865      -0.015181 -0.072992    -0.978571   \n",
       "4336   0.295553  -0.215717     1.007865      -0.015181 -0.072992    -0.978571   \n",
       "4337   0.359877   0.970563    -0.992196      -0.015181 -0.072992     1.021899   \n",
       "4338   0.509967  -0.690229     1.007865      -0.015181 -0.072992    -0.978571   \n",
       "4339  -0.562103  -0.690229    -0.992196      -0.015181 -0.072992     1.021899   \n",
       "\n",
       "      seller_type_Individual  seller_type_Trustmark Dealer  \\\n",
       "0                   0.581253                     -0.155139   \n",
       "1                   0.581253                     -0.155139   \n",
       "2                   0.581253                     -0.155139   \n",
       "3                   0.581253                     -0.155139   \n",
       "4                   0.581253                     -0.155139   \n",
       "...                      ...                           ...   \n",
       "4335                0.581253                     -0.155139   \n",
       "4336                0.581253                     -0.155139   \n",
       "4337                0.581253                     -0.155139   \n",
       "4338                0.581253                     -0.155139   \n",
       "4339                0.581253                     -0.155139   \n",
       "\n",
       "      transmission_Manual  owner_Fourth & Above Owner  owner_Second Owner  \\\n",
       "0                0.339276                   -0.137908           -0.584800   \n",
       "1                0.339276                   -0.137908           -0.584800   \n",
       "2                0.339276                   -0.137908           -0.584800   \n",
       "3                0.339276                   -0.137908           -0.584800   \n",
       "4                0.339276                   -0.137908            1.709986   \n",
       "...                   ...                         ...                 ...   \n",
       "4335             0.339276                   -0.137908            1.709986   \n",
       "4336             0.339276                   -0.137908            1.709986   \n",
       "4337             0.339276                   -0.137908            1.709986   \n",
       "4338             0.339276                   -0.137908           -0.584800   \n",
       "4339             0.339276                   -0.137908           -0.584800   \n",
       "\n",
       "      owner_Test Drive Car  owner_Third Owner  \n",
       "0                -0.062709          -0.274449  \n",
       "1                -0.062709          -0.274449  \n",
       "2                -0.062709          -0.274449  \n",
       "3                -0.062709          -0.274449  \n",
       "4                -0.062709          -0.274449  \n",
       "...                    ...                ...  \n",
       "4335             -0.062709          -0.274449  \n",
       "4336             -0.062709          -0.274449  \n",
       "4337             -0.062709          -0.274449  \n",
       "4338             -0.062709          -0.274449  \n",
       "4339             -0.062709          -0.274449  \n",
       "\n",
       "[4340 rows x 13 columns]"
      ]
     },
     "execution_count": 26,
     "metadata": {},
     "output_type": "execute_result"
    }
   ],
   "source": [
    "X"
   ]
  },
  {
   "cell_type": "markdown",
   "metadata": {},
   "source": [
    "## Train Test split "
   ]
  },
  {
   "cell_type": "code",
   "execution_count": 27,
   "metadata": {},
   "outputs": [],
   "source": [
    "#Importing the library\n",
    "from sklearn.linear_model import LinearRegression\n",
    "from sklearn.model_selection import train_test_split"
   ]
  },
  {
   "cell_type": "code",
   "execution_count": 28,
   "metadata": {},
   "outputs": [],
   "source": [
    "X_train,X_test,Y_train,Y_test=train_test_split(X,Y,test_size=0.30,random_state=0)"
   ]
  },
  {
   "cell_type": "code",
   "execution_count": 29,
   "metadata": {},
   "outputs": [
    {
     "data": {
      "text/html": [
       "<div>\n",
       "<style scoped>\n",
       "    .dataframe tbody tr th:only-of-type {\n",
       "        vertical-align: middle;\n",
       "    }\n",
       "\n",
       "    .dataframe tbody tr th {\n",
       "        vertical-align: top;\n",
       "    }\n",
       "\n",
       "    .dataframe thead th {\n",
       "        text-align: right;\n",
       "    }\n",
       "</style>\n",
       "<table border=\"1\" class=\"dataframe\">\n",
       "  <thead>\n",
       "    <tr style=\"text-align: right;\">\n",
       "      <th></th>\n",
       "      <th>km_driven</th>\n",
       "      <th>years_old</th>\n",
       "      <th>fuel_Diesel</th>\n",
       "      <th>fuel_Electric</th>\n",
       "      <th>fuel_LPG</th>\n",
       "      <th>fuel_Petrol</th>\n",
       "      <th>seller_type_Individual</th>\n",
       "      <th>seller_type_Trustmark Dealer</th>\n",
       "      <th>transmission_Manual</th>\n",
       "      <th>owner_Fourth &amp; Above Owner</th>\n",
       "      <th>owner_Second Owner</th>\n",
       "      <th>owner_Test Drive Car</th>\n",
       "      <th>owner_Third Owner</th>\n",
       "    </tr>\n",
       "  </thead>\n",
       "  <tbody>\n",
       "    <tr>\n",
       "      <th>330</th>\n",
       "      <td>1.153209</td>\n",
       "      <td>1.207818</td>\n",
       "      <td>1.007865</td>\n",
       "      <td>-0.015181</td>\n",
       "      <td>-0.072992</td>\n",
       "      <td>-0.978571</td>\n",
       "      <td>0.581253</td>\n",
       "      <td>-0.155139</td>\n",
       "      <td>0.339276</td>\n",
       "      <td>-0.137908</td>\n",
       "      <td>-0.584800</td>\n",
       "      <td>-0.062709</td>\n",
       "      <td>3.643668</td>\n",
       "    </tr>\n",
       "    <tr>\n",
       "      <th>3022</th>\n",
       "      <td>-0.369131</td>\n",
       "      <td>-0.452973</td>\n",
       "      <td>-0.992196</td>\n",
       "      <td>-0.015181</td>\n",
       "      <td>-0.072992</td>\n",
       "      <td>1.021899</td>\n",
       "      <td>0.581253</td>\n",
       "      <td>-0.155139</td>\n",
       "      <td>0.339276</td>\n",
       "      <td>-0.137908</td>\n",
       "      <td>-0.584800</td>\n",
       "      <td>-0.062709</td>\n",
       "      <td>-0.274449</td>\n",
       "    </tr>\n",
       "    <tr>\n",
       "      <th>2497</th>\n",
       "      <td>0.295553</td>\n",
       "      <td>2.156842</td>\n",
       "      <td>-0.992196</td>\n",
       "      <td>-0.015181</td>\n",
       "      <td>-0.072992</td>\n",
       "      <td>1.021899</td>\n",
       "      <td>0.581253</td>\n",
       "      <td>-0.155139</td>\n",
       "      <td>0.339276</td>\n",
       "      <td>-0.137908</td>\n",
       "      <td>-0.584800</td>\n",
       "      <td>-0.062709</td>\n",
       "      <td>-0.274449</td>\n",
       "    </tr>\n",
       "    <tr>\n",
       "      <th>2078</th>\n",
       "      <td>-0.153451</td>\n",
       "      <td>-0.215717</td>\n",
       "      <td>-0.992196</td>\n",
       "      <td>-0.015181</td>\n",
       "      <td>-0.072992</td>\n",
       "      <td>1.021899</td>\n",
       "      <td>-1.720423</td>\n",
       "      <td>-0.155139</td>\n",
       "      <td>0.339276</td>\n",
       "      <td>-0.137908</td>\n",
       "      <td>-0.584800</td>\n",
       "      <td>-0.062709</td>\n",
       "      <td>-0.274449</td>\n",
       "    </tr>\n",
       "    <tr>\n",
       "      <th>1837</th>\n",
       "      <td>-0.291941</td>\n",
       "      <td>-0.690229</td>\n",
       "      <td>1.007865</td>\n",
       "      <td>-0.015181</td>\n",
       "      <td>-0.072992</td>\n",
       "      <td>-0.978571</td>\n",
       "      <td>0.581253</td>\n",
       "      <td>-0.155139</td>\n",
       "      <td>0.339276</td>\n",
       "      <td>-0.137908</td>\n",
       "      <td>-0.584800</td>\n",
       "      <td>-0.062709</td>\n",
       "      <td>-0.274449</td>\n",
       "    </tr>\n",
       "    <tr>\n",
       "      <th>...</th>\n",
       "      <td>...</td>\n",
       "      <td>...</td>\n",
       "      <td>...</td>\n",
       "      <td>...</td>\n",
       "      <td>...</td>\n",
       "      <td>...</td>\n",
       "      <td>...</td>\n",
       "      <td>...</td>\n",
       "      <td>...</td>\n",
       "      <td>...</td>\n",
       "      <td>...</td>\n",
       "      <td>...</td>\n",
       "      <td>...</td>\n",
       "    </tr>\n",
       "    <tr>\n",
       "      <th>1033</th>\n",
       "      <td>-0.165437</td>\n",
       "      <td>0.021539</td>\n",
       "      <td>1.007865</td>\n",
       "      <td>-0.015181</td>\n",
       "      <td>-0.072992</td>\n",
       "      <td>-0.978571</td>\n",
       "      <td>-1.720423</td>\n",
       "      <td>-0.155139</td>\n",
       "      <td>-2.947457</td>\n",
       "      <td>-0.137908</td>\n",
       "      <td>-0.584800</td>\n",
       "      <td>-0.062709</td>\n",
       "      <td>-0.274449</td>\n",
       "    </tr>\n",
       "    <tr>\n",
       "      <th>3264</th>\n",
       "      <td>0.938795</td>\n",
       "      <td>0.258795</td>\n",
       "      <td>1.007865</td>\n",
       "      <td>-0.015181</td>\n",
       "      <td>-0.072992</td>\n",
       "      <td>-0.978571</td>\n",
       "      <td>0.581253</td>\n",
       "      <td>-0.155139</td>\n",
       "      <td>0.339276</td>\n",
       "      <td>-0.137908</td>\n",
       "      <td>-0.584800</td>\n",
       "      <td>-0.062709</td>\n",
       "      <td>-0.274449</td>\n",
       "    </tr>\n",
       "    <tr>\n",
       "      <th>1653</th>\n",
       "      <td>-0.948049</td>\n",
       "      <td>-0.690229</td>\n",
       "      <td>-0.992196</td>\n",
       "      <td>-0.015181</td>\n",
       "      <td>-0.072992</td>\n",
       "      <td>1.021899</td>\n",
       "      <td>0.581253</td>\n",
       "      <td>-0.155139</td>\n",
       "      <td>0.339276</td>\n",
       "      <td>-0.137908</td>\n",
       "      <td>-0.584800</td>\n",
       "      <td>-0.062709</td>\n",
       "      <td>-0.274449</td>\n",
       "    </tr>\n",
       "    <tr>\n",
       "      <th>2607</th>\n",
       "      <td>0.081139</td>\n",
       "      <td>-0.452973</td>\n",
       "      <td>1.007865</td>\n",
       "      <td>-0.015181</td>\n",
       "      <td>-0.072992</td>\n",
       "      <td>-0.978571</td>\n",
       "      <td>0.581253</td>\n",
       "      <td>-0.155139</td>\n",
       "      <td>0.339276</td>\n",
       "      <td>-0.137908</td>\n",
       "      <td>-0.584800</td>\n",
       "      <td>-0.062709</td>\n",
       "      <td>-0.274449</td>\n",
       "    </tr>\n",
       "    <tr>\n",
       "      <th>2732</th>\n",
       "      <td>-0.090392</td>\n",
       "      <td>0.021539</td>\n",
       "      <td>-0.992196</td>\n",
       "      <td>-0.015181</td>\n",
       "      <td>-0.072992</td>\n",
       "      <td>1.021899</td>\n",
       "      <td>0.581253</td>\n",
       "      <td>-0.155139</td>\n",
       "      <td>0.339276</td>\n",
       "      <td>-0.137908</td>\n",
       "      <td>1.709986</td>\n",
       "      <td>-0.062709</td>\n",
       "      <td>-0.274449</td>\n",
       "    </tr>\n",
       "  </tbody>\n",
       "</table>\n",
       "<p>3038 rows × 13 columns</p>\n",
       "</div>"
      ],
      "text/plain": [
       "      km_driven  years_old  fuel_Diesel  fuel_Electric  fuel_LPG  fuel_Petrol  \\\n",
       "330    1.153209   1.207818     1.007865      -0.015181 -0.072992    -0.978571   \n",
       "3022  -0.369131  -0.452973    -0.992196      -0.015181 -0.072992     1.021899   \n",
       "2497   0.295553   2.156842    -0.992196      -0.015181 -0.072992     1.021899   \n",
       "2078  -0.153451  -0.215717    -0.992196      -0.015181 -0.072992     1.021899   \n",
       "1837  -0.291941  -0.690229     1.007865      -0.015181 -0.072992    -0.978571   \n",
       "...         ...        ...          ...            ...       ...          ...   \n",
       "1033  -0.165437   0.021539     1.007865      -0.015181 -0.072992    -0.978571   \n",
       "3264   0.938795   0.258795     1.007865      -0.015181 -0.072992    -0.978571   \n",
       "1653  -0.948049  -0.690229    -0.992196      -0.015181 -0.072992     1.021899   \n",
       "2607   0.081139  -0.452973     1.007865      -0.015181 -0.072992    -0.978571   \n",
       "2732  -0.090392   0.021539    -0.992196      -0.015181 -0.072992     1.021899   \n",
       "\n",
       "      seller_type_Individual  seller_type_Trustmark Dealer  \\\n",
       "330                 0.581253                     -0.155139   \n",
       "3022                0.581253                     -0.155139   \n",
       "2497                0.581253                     -0.155139   \n",
       "2078               -1.720423                     -0.155139   \n",
       "1837                0.581253                     -0.155139   \n",
       "...                      ...                           ...   \n",
       "1033               -1.720423                     -0.155139   \n",
       "3264                0.581253                     -0.155139   \n",
       "1653                0.581253                     -0.155139   \n",
       "2607                0.581253                     -0.155139   \n",
       "2732                0.581253                     -0.155139   \n",
       "\n",
       "      transmission_Manual  owner_Fourth & Above Owner  owner_Second Owner  \\\n",
       "330              0.339276                   -0.137908           -0.584800   \n",
       "3022             0.339276                   -0.137908           -0.584800   \n",
       "2497             0.339276                   -0.137908           -0.584800   \n",
       "2078             0.339276                   -0.137908           -0.584800   \n",
       "1837             0.339276                   -0.137908           -0.584800   \n",
       "...                   ...                         ...                 ...   \n",
       "1033            -2.947457                   -0.137908           -0.584800   \n",
       "3264             0.339276                   -0.137908           -0.584800   \n",
       "1653             0.339276                   -0.137908           -0.584800   \n",
       "2607             0.339276                   -0.137908           -0.584800   \n",
       "2732             0.339276                   -0.137908            1.709986   \n",
       "\n",
       "      owner_Test Drive Car  owner_Third Owner  \n",
       "330              -0.062709           3.643668  \n",
       "3022             -0.062709          -0.274449  \n",
       "2497             -0.062709          -0.274449  \n",
       "2078             -0.062709          -0.274449  \n",
       "1837             -0.062709          -0.274449  \n",
       "...                    ...                ...  \n",
       "1033             -0.062709          -0.274449  \n",
       "3264             -0.062709          -0.274449  \n",
       "1653             -0.062709          -0.274449  \n",
       "2607             -0.062709          -0.274449  \n",
       "2732             -0.062709          -0.274449  \n",
       "\n",
       "[3038 rows x 13 columns]"
      ]
     },
     "execution_count": 29,
     "metadata": {},
     "output_type": "execute_result"
    }
   ],
   "source": [
    "X_train"
   ]
  },
  {
   "cell_type": "code",
   "execution_count": 30,
   "metadata": {},
   "outputs": [
    {
     "data": {
      "text/plain": [
       "330    -0.439300\n",
       "3022    0.079298\n",
       "2497   -0.734901\n",
       "2078   -0.352867\n",
       "1837    0.053368\n",
       "          ...   \n",
       "1033    1.375795\n",
       "3264   -0.664026\n",
       "1653   -0.404727\n",
       "2607    0.165731\n",
       "2732   -0.473875\n",
       "Name: selling_price, Length: 3038, dtype: float64"
      ]
     },
     "execution_count": 30,
     "metadata": {},
     "output_type": "execute_result"
    }
   ],
   "source": [
    "Y_train"
   ]
  },
  {
   "cell_type": "markdown",
   "metadata": {},
   "source": [
    "## LinearRegression"
   ]
  },
  {
   "cell_type": "code",
   "execution_count": 31,
   "metadata": {},
   "outputs": [
    {
     "data": {
      "text/plain": [
       "LinearRegression()"
      ]
     },
     "execution_count": 31,
     "metadata": {},
     "output_type": "execute_result"
    }
   ],
   "source": [
    "model=LinearRegression()        #Model building and fitting\n",
    "model.fit(X_train,Y_train)     "
   ]
  },
  {
   "cell_type": "code",
   "execution_count": 32,
   "metadata": {},
   "outputs": [
    {
     "data": {
      "text/plain": [
       "array([ 1.5923205 ,  1.62718254, -0.54309361, ..., -0.75908546,\n",
       "       -0.4722555 , -0.20822259])"
      ]
     },
     "execution_count": 32,
     "metadata": {},
     "output_type": "execute_result"
    }
   ],
   "source": [
    "y_prediction=model.predict(X_test)\n",
    "y_prediction"
   ]
  },
  {
   "cell_type": "code",
   "execution_count": 33,
   "metadata": {},
   "outputs": [
    {
     "name": "stderr",
     "output_type": "stream",
     "text": [
      "C:\\Users\\Admin\\anaconda3\\lib\\site-packages\\seaborn\\distributions.py:2551: FutureWarning: `distplot` is a deprecated function and will be removed in a future version. Please adapt your code to use either `displot` (a figure-level function with similar flexibility) or `histplot` (an axes-level function for histograms).\n",
      "  warnings.warn(msg, FutureWarning)\n"
     ]
    },
    {
     "data": {
      "text/plain": [
       "<AxesSubplot:xlabel='selling_price', ylabel='Density'>"
      ]
     },
     "execution_count": 33,
     "metadata": {},
     "output_type": "execute_result"
    },
    {
     "data": {
      "image/png": "[encoded data removed]",
      "text/plain": [
       "<Figure size 432x288 with 1 Axes>"
      ]
     },
     "metadata": {
      "needs_background": "light"
     },
     "output_type": "display_data"
    }
   ],
   "source": [
    "sns.distplot(Y_test-y_prediction)"
   ]
  },
  {
   "cell_type": "code",
   "execution_count": 34,
   "metadata": {},
   "outputs": [
    {
     "name": "stderr",
     "output_type": "stream",
     "text": [
      "C:\\Users\\Admin\\anaconda3\\lib\\site-packages\\seaborn\\_decorators.py:36: FutureWarning: Pass the following variables as keyword args: x, y. From version 0.12, the only valid positional argument will be `data`, and passing other arguments without an explicit keyword will result in an error or misinterpretation.\n",
      "  warnings.warn(\n"
     ]
    },
    {
     "data": {
      "text/plain": [
       "<AxesSubplot:xlabel='selling_price'>"
      ]
     },
     "execution_count": 34,
     "metadata": {},
     "output_type": "execute_result"
    },
    {
     "data": {
      "image/png": "[encoded data removed]",
      "text/plain": [
       "<Figure size 432x288 with 1 Axes>"
      ]
     },
     "metadata": {
      "needs_background": "light"
     },
     "output_type": "display_data"
    }
   ],
   "source": [
    "sns.scatterplot(Y_test,y_prediction)"
   ]
  },
  {
   "cell_type": "code",
   "execution_count": 35,
   "metadata": {},
   "outputs": [],
   "source": [
    "from sklearn import metrics"
   ]
  },
  {
   "cell_type": "code",
   "execution_count": 36,
   "metadata": {},
   "outputs": [
    {
     "name": "stdout",
     "output_type": "stream",
     "text": [
      "MAE: 0.3976061905105329\n",
      "MSE: 0.5250031718780348\n",
      "RMSE: 0.7245710261099562\n"
     ]
    }
   ],
   "source": [
    "print('MAE:', metrics.mean_absolute_error(Y_test, y_prediction))\n",
    "print('MSE:', metrics.mean_squared_error(Y_test, y_prediction))\n",
    "print('RMSE:', np.sqrt(metrics.mean_squared_error(Y_test, y_prediction)))"
   ]
  },
  {
   "cell_type": "code",
   "execution_count": 37,
   "metadata": {},
   "outputs": [
    {
     "data": {
      "text/html": [
       "<div>\n",
       "<style scoped>\n",
       "    .dataframe tbody tr th:only-of-type {\n",
       "        vertical-align: middle;\n",
       "    }\n",
       "\n",
       "    .dataframe tbody tr th {\n",
       "        vertical-align: top;\n",
       "    }\n",
       "\n",
       "    .dataframe thead th {\n",
       "        text-align: right;\n",
       "    }\n",
       "</style>\n",
       "<table border=\"1\" class=\"dataframe\">\n",
       "  <thead>\n",
       "    <tr style=\"text-align: right;\">\n",
       "      <th></th>\n",
       "      <th>km_driven</th>\n",
       "      <th>years_old</th>\n",
       "      <th>fuel_Diesel</th>\n",
       "      <th>fuel_Electric</th>\n",
       "      <th>fuel_LPG</th>\n",
       "      <th>fuel_Petrol</th>\n",
       "      <th>seller_type_Individual</th>\n",
       "      <th>seller_type_Trustmark Dealer</th>\n",
       "      <th>transmission_Manual</th>\n",
       "      <th>owner_Fourth &amp; Above Owner</th>\n",
       "      <th>owner_Second Owner</th>\n",
       "      <th>owner_Test Drive Car</th>\n",
       "      <th>owner_Third Owner</th>\n",
       "    </tr>\n",
       "  </thead>\n",
       "  <tbody>\n",
       "    <tr>\n",
       "      <th>330</th>\n",
       "      <td>1.153209</td>\n",
       "      <td>1.207818</td>\n",
       "      <td>1.007865</td>\n",
       "      <td>-0.015181</td>\n",
       "      <td>-0.072992</td>\n",
       "      <td>-0.978571</td>\n",
       "      <td>0.581253</td>\n",
       "      <td>-0.155139</td>\n",
       "      <td>0.339276</td>\n",
       "      <td>-0.137908</td>\n",
       "      <td>-0.584800</td>\n",
       "      <td>-0.062709</td>\n",
       "      <td>3.643668</td>\n",
       "    </tr>\n",
       "    <tr>\n",
       "      <th>3022</th>\n",
       "      <td>-0.369131</td>\n",
       "      <td>-0.452973</td>\n",
       "      <td>-0.992196</td>\n",
       "      <td>-0.015181</td>\n",
       "      <td>-0.072992</td>\n",
       "      <td>1.021899</td>\n",
       "      <td>0.581253</td>\n",
       "      <td>-0.155139</td>\n",
       "      <td>0.339276</td>\n",
       "      <td>-0.137908</td>\n",
       "      <td>-0.584800</td>\n",
       "      <td>-0.062709</td>\n",
       "      <td>-0.274449</td>\n",
       "    </tr>\n",
       "    <tr>\n",
       "      <th>2497</th>\n",
       "      <td>0.295553</td>\n",
       "      <td>2.156842</td>\n",
       "      <td>-0.992196</td>\n",
       "      <td>-0.015181</td>\n",
       "      <td>-0.072992</td>\n",
       "      <td>1.021899</td>\n",
       "      <td>0.581253</td>\n",
       "      <td>-0.155139</td>\n",
       "      <td>0.339276</td>\n",
       "      <td>-0.137908</td>\n",
       "      <td>-0.584800</td>\n",
       "      <td>-0.062709</td>\n",
       "      <td>-0.274449</td>\n",
       "    </tr>\n",
       "    <tr>\n",
       "      <th>2078</th>\n",
       "      <td>-0.153451</td>\n",
       "      <td>-0.215717</td>\n",
       "      <td>-0.992196</td>\n",
       "      <td>-0.015181</td>\n",
       "      <td>-0.072992</td>\n",
       "      <td>1.021899</td>\n",
       "      <td>-1.720423</td>\n",
       "      <td>-0.155139</td>\n",
       "      <td>0.339276</td>\n",
       "      <td>-0.137908</td>\n",
       "      <td>-0.584800</td>\n",
       "      <td>-0.062709</td>\n",
       "      <td>-0.274449</td>\n",
       "    </tr>\n",
       "    <tr>\n",
       "      <th>1837</th>\n",
       "      <td>-0.291941</td>\n",
       "      <td>-0.690229</td>\n",
       "      <td>1.007865</td>\n",
       "      <td>-0.015181</td>\n",
       "      <td>-0.072992</td>\n",
       "      <td>-0.978571</td>\n",
       "      <td>0.581253</td>\n",
       "      <td>-0.155139</td>\n",
       "      <td>0.339276</td>\n",
       "      <td>-0.137908</td>\n",
       "      <td>-0.584800</td>\n",
       "      <td>-0.062709</td>\n",
       "      <td>-0.274449</td>\n",
       "    </tr>\n",
       "    <tr>\n",
       "      <th>...</th>\n",
       "      <td>...</td>\n",
       "      <td>...</td>\n",
       "      <td>...</td>\n",
       "      <td>...</td>\n",
       "      <td>...</td>\n",
       "      <td>...</td>\n",
       "      <td>...</td>\n",
       "      <td>...</td>\n",
       "      <td>...</td>\n",
       "      <td>...</td>\n",
       "      <td>...</td>\n",
       "      <td>...</td>\n",
       "      <td>...</td>\n",
       "    </tr>\n",
       "    <tr>\n",
       "      <th>1033</th>\n",
       "      <td>-0.165437</td>\n",
       "      <td>0.021539</td>\n",
       "      <td>1.007865</td>\n",
       "      <td>-0.015181</td>\n",
       "      <td>-0.072992</td>\n",
       "      <td>-0.978571</td>\n",
       "      <td>-1.720423</td>\n",
       "      <td>-0.155139</td>\n",
       "      <td>-2.947457</td>\n",
       "      <td>-0.137908</td>\n",
       "      <td>-0.584800</td>\n",
       "      <td>-0.062709</td>\n",
       "      <td>-0.274449</td>\n",
       "    </tr>\n",
       "    <tr>\n",
       "      <th>3264</th>\n",
       "      <td>0.938795</td>\n",
       "      <td>0.258795</td>\n",
       "      <td>1.007865</td>\n",
       "      <td>-0.015181</td>\n",
       "      <td>-0.072992</td>\n",
       "      <td>-0.978571</td>\n",
       "      <td>0.581253</td>\n",
       "      <td>-0.155139</td>\n",
       "      <td>0.339276</td>\n",
       "      <td>-0.137908</td>\n",
       "      <td>-0.584800</td>\n",
       "      <td>-0.062709</td>\n",
       "      <td>-0.274449</td>\n",
       "    </tr>\n",
       "    <tr>\n",
       "      <th>1653</th>\n",
       "      <td>-0.948049</td>\n",
       "      <td>-0.690229</td>\n",
       "      <td>-0.992196</td>\n",
       "      <td>-0.015181</td>\n",
       "      <td>-0.072992</td>\n",
       "      <td>1.021899</td>\n",
       "      <td>0.581253</td>\n",
       "      <td>-0.155139</td>\n",
       "      <td>0.339276</td>\n",
       "      <td>-0.137908</td>\n",
       "      <td>-0.584800</td>\n",
       "      <td>-0.062709</td>\n",
       "      <td>-0.274449</td>\n",
       "    </tr>\n",
       "    <tr>\n",
       "      <th>2607</th>\n",
       "      <td>0.081139</td>\n",
       "      <td>-0.452973</td>\n",
       "      <td>1.007865</td>\n",
       "      <td>-0.015181</td>\n",
       "      <td>-0.072992</td>\n",
       "      <td>-0.978571</td>\n",
       "      <td>0.581253</td>\n",
       "      <td>-0.155139</td>\n",
       "      <td>0.339276</td>\n",
       "      <td>-0.137908</td>\n",
       "      <td>-0.584800</td>\n",
       "      <td>-0.062709</td>\n",
       "      <td>-0.274449</td>\n",
       "    </tr>\n",
       "    <tr>\n",
       "      <th>2732</th>\n",
       "      <td>-0.090392</td>\n",
       "      <td>0.021539</td>\n",
       "      <td>-0.992196</td>\n",
       "      <td>-0.015181</td>\n",
       "      <td>-0.072992</td>\n",
       "      <td>1.021899</td>\n",
       "      <td>0.581253</td>\n",
       "      <td>-0.155139</td>\n",
       "      <td>0.339276</td>\n",
       "      <td>-0.137908</td>\n",
       "      <td>1.709986</td>\n",
       "      <td>-0.062709</td>\n",
       "      <td>-0.274449</td>\n",
       "    </tr>\n",
       "  </tbody>\n",
       "</table>\n",
       "<p>3038 rows × 13 columns</p>\n",
       "</div>"
      ],
      "text/plain": [
       "      km_driven  years_old  fuel_Diesel  fuel_Electric  fuel_LPG  fuel_Petrol  \\\n",
       "330    1.153209   1.207818     1.007865      -0.015181 -0.072992    -0.978571   \n",
       "3022  -0.369131  -0.452973    -0.992196      -0.015181 -0.072992     1.021899   \n",
       "2497   0.295553   2.156842    -0.992196      -0.015181 -0.072992     1.021899   \n",
       "2078  -0.153451  -0.215717    -0.992196      -0.015181 -0.072992     1.021899   \n",
       "1837  -0.291941  -0.690229     1.007865      -0.015181 -0.072992    -0.978571   \n",
       "...         ...        ...          ...            ...       ...          ...   \n",
       "1033  -0.165437   0.021539     1.007865      -0.015181 -0.072992    -0.978571   \n",
       "3264   0.938795   0.258795     1.007865      -0.015181 -0.072992    -0.978571   \n",
       "1653  -0.948049  -0.690229    -0.992196      -0.015181 -0.072992     1.021899   \n",
       "2607   0.081139  -0.452973     1.007865      -0.015181 -0.072992    -0.978571   \n",
       "2732  -0.090392   0.021539    -0.992196      -0.015181 -0.072992     1.021899   \n",
       "\n",
       "      seller_type_Individual  seller_type_Trustmark Dealer  \\\n",
       "330                 0.581253                     -0.155139   \n",
       "3022                0.581253                     -0.155139   \n",
       "2497                0.581253                     -0.155139   \n",
       "2078               -1.720423                     -0.155139   \n",
       "1837                0.581253                     -0.155139   \n",
       "...                      ...                           ...   \n",
       "1033               -1.720423                     -0.155139   \n",
       "3264                0.581253                     -0.155139   \n",
       "1653                0.581253                     -0.155139   \n",
       "2607                0.581253                     -0.155139   \n",
       "2732                0.581253                     -0.155139   \n",
       "\n",
       "      transmission_Manual  owner_Fourth & Above Owner  owner_Second Owner  \\\n",
       "330              0.339276                   -0.137908           -0.584800   \n",
       "3022             0.339276                   -0.137908           -0.584800   \n",
       "2497             0.339276                   -0.137908           -0.584800   \n",
       "2078             0.339276                   -0.137908           -0.584800   \n",
       "1837             0.339276                   -0.137908           -0.584800   \n",
       "...                   ...                         ...                 ...   \n",
       "1033            -2.947457                   -0.137908           -0.584800   \n",
       "3264             0.339276                   -0.137908           -0.584800   \n",
       "1653             0.339276                   -0.137908           -0.584800   \n",
       "2607             0.339276                   -0.137908           -0.584800   \n",
       "2732             0.339276                   -0.137908            1.709986   \n",
       "\n",
       "      owner_Test Drive Car  owner_Third Owner  \n",
       "330              -0.062709           3.643668  \n",
       "3022             -0.062709          -0.274449  \n",
       "2497             -0.062709          -0.274449  \n",
       "2078             -0.062709          -0.274449  \n",
       "1837             -0.062709          -0.274449  \n",
       "...                    ...                ...  \n",
       "1033             -0.062709          -0.274449  \n",
       "3264             -0.062709          -0.274449  \n",
       "1653             -0.062709          -0.274449  \n",
       "2607             -0.062709          -0.274449  \n",
       "2732             -0.062709          -0.274449  \n",
       "\n",
       "[3038 rows x 13 columns]"
      ]
     },
     "execution_count": 37,
     "metadata": {},
     "output_type": "execute_result"
    }
   ],
   "source": [
    "X_train"
   ]
  },
  {
   "cell_type": "code",
   "execution_count": 38,
   "metadata": {},
   "outputs": [],
   "source": [
    "z=[[1.153209,1.207818,1.007865,-0.015181,-0.072992,-0.978571,0.581253,-0.155139,0.339276,-0.137908,-0.584800,-0.062709,3.643668]]"
   ]
  },
  {
   "cell_type": "code",
   "execution_count": 39,
   "metadata": {},
   "outputs": [
    {
     "data": {
      "text/plain": [
       "array([-0.3975394])"
      ]
     },
     "execution_count": 39,
     "metadata": {},
     "output_type": "execute_result"
    }
   ],
   "source": [
    "model.predict(z)"
   ]
  },
  {
   "cell_type": "code",
   "execution_count": 40,
   "metadata": {},
   "outputs": [
    {
     "name": "stdout",
     "output_type": "stream",
     "text": [
      "Predicted : 274131.3943157414\n"
     ]
    }
   ],
   "source": [
    "print(\"Predicted :\",(-0.3975394 * df['selling_price'].std()) + df['selling_price'].mean())"
   ]
  },
  {
   "cell_type": "code",
   "execution_count": 41,
   "metadata": {},
   "outputs": [
    {
     "data": {
      "text/plain": [
       "-0.43924961870480483"
      ]
     },
     "execution_count": 41,
     "metadata": {},
     "output_type": "execute_result"
    }
   ],
   "source": [
    "(df['selling_price'][330]-df['selling_price'].mean())/df['selling_price'].std()"
   ]
  },
  {
   "cell_type": "code",
   "execution_count": 42,
   "metadata": {},
   "outputs": [
    {
     "name": "stdout",
     "output_type": "stream",
     "text": [
      "Actual : 250000.0\n"
     ]
    }
   ],
   "source": [
    "print(\"Actual :\",(-0.43924961870480483 * df['selling_price'].std()) + df['selling_price'].mean())"
   ]
  },
  {
   "cell_type": "markdown",
   "metadata": {},
   "source": [
    "## RandomForestRegressor"
   ]
  },
  {
   "cell_type": "code",
   "execution_count": 43,
   "metadata": {},
   "outputs": [],
   "source": [
    "from sklearn.ensemble import RandomForestRegressor"
   ]
  },
  {
   "cell_type": "code",
   "execution_count": 44,
   "metadata": {},
   "outputs": [],
   "source": [
    "model2=RandomForestRegressor(n_estimators=100,\n",
    "    criterion='mse',\n",
    "    max_depth=None,\n",
    "    min_samples_split=2,\n",
    "    min_samples_leaf=1,\n",
    "    min_weight_fraction_leaf=0.0,\n",
    "    max_features='auto',\n",
    "    max_leaf_nodes=None,\n",
    "    min_impurity_decrease=0.0,\n",
    "    min_impurity_split=None,\n",
    "    bootstrap=True,\n",
    "    oob_score=False,\n",
    "    n_jobs=None,\n",
    "    random_state=None,\n",
    "    verbose=0,\n",
    "    warm_start=False,\n",
    "    ccp_alpha=0.0,\n",
    "    max_samples=None,)"
   ]
  },
  {
   "cell_type": "code",
   "execution_count": 45,
   "metadata": {},
   "outputs": [
    {
     "data": {
      "text/plain": [
       "RandomForestRegressor()"
      ]
     },
     "execution_count": 45,
     "metadata": {},
     "output_type": "execute_result"
    }
   ],
   "source": [
    "model2.fit(X_train,Y_train)"
   ]
  },
  {
   "cell_type": "code",
   "execution_count": 46,
   "metadata": {},
   "outputs": [],
   "source": [
    "y_pred2=model2.predict(X_test)"
   ]
  },
  {
   "cell_type": "code",
   "execution_count": 47,
   "metadata": {},
   "outputs": [
    {
     "data": {
      "text/plain": [
       "array([ 0.2936006 ,  1.85982026, -0.42713049, ..., -0.54289744,\n",
       "       -0.28434591, -0.34398047])"
      ]
     },
     "execution_count": 47,
     "metadata": {},
     "output_type": "execute_result"
    }
   ],
   "source": [
    "y_pred2"
   ]
  },
  {
   "cell_type": "code",
   "execution_count": 48,
   "metadata": {},
   "outputs": [],
   "source": [
    "z=[[-0.369131,-0.452973,-0.992196,-0.015181,-0.072992,1.021899,0.581253,-0.155139,0.339276,-0.137908,-0.584800,-0.062709,-0.274449]]"
   ]
  },
  {
   "cell_type": "code",
   "execution_count": 49,
   "metadata": {},
   "outputs": [
    {
     "data": {
      "text/plain": [
       "array([0.02344102])"
      ]
     },
     "execution_count": 49,
     "metadata": {},
     "output_type": "execute_result"
    }
   ],
   "source": [
    "model2.predict(z)"
   ]
  },
  {
   "cell_type": "code",
   "execution_count": 50,
   "metadata": {},
   "outputs": [
    {
     "name": "stdout",
     "output_type": "stream",
     "text": [
      "Predicted : 524034.01666421886\n"
     ]
    }
   ],
   "source": [
    "print(\"Predicted :\",(0.034408 * df['selling_price'].std()) + df['selling_price'].mean())"
   ]
  },
  {
   "cell_type": "code",
   "execution_count": 51,
   "metadata": {},
   "outputs": [
    {
     "data": {
      "text/plain": [
       "0.07928923767942654"
      ]
     },
     "execution_count": 51,
     "metadata": {},
     "output_type": "execute_result"
    }
   ],
   "source": [
    "(df['selling_price'][3022]-df['selling_price'].mean())/df['selling_price'].std()"
   ]
  },
  {
   "cell_type": "code",
   "execution_count": 52,
   "metadata": {},
   "outputs": [
    {
     "name": "stdout",
     "output_type": "stream",
     "text": [
      "Actual : 550000.0\n"
     ]
    }
   ],
   "source": [
    "print(\"Actual :\",(0.07928923767942654 * df['selling_price'].std()) + df['selling_price'].mean())"
   ]
  },
  {
   "cell_type": "code",
   "execution_count": 53,
   "metadata": {},
   "outputs": [
    {
     "name": "stderr",
     "output_type": "stream",
     "text": [
      "C:\\Users\\Admin\\anaconda3\\lib\\site-packages\\seaborn\\distributions.py:2551: FutureWarning: `distplot` is a deprecated function and will be removed in a future version. Please adapt your code to use either `displot` (a figure-level function with similar flexibility) or `histplot` (an axes-level function for histograms).\n",
      "  warnings.warn(msg, FutureWarning)\n"
     ]
    },
    {
     "data": {
      "text/plain": [
       "<AxesSubplot:xlabel='selling_price', ylabel='Density'>"
      ]
     },
     "execution_count": 53,
     "metadata": {},
     "output_type": "execute_result"
    },
    {
     "data": {
      "image/png": "[encoded data removed]",
      "text/plain": [
       "<Figure size 432x288 with 1 Axes>"
      ]
     },
     "metadata": {
      "needs_background": "light"
     },
     "output_type": "display_data"
    }
   ],
   "source": [
    "sns.distplot(Y_test-y_pred2)"
   ]
  },
  {
   "cell_type": "code",
   "execution_count": 54,
   "metadata": {},
   "outputs": [
    {
     "name": "stdout",
     "output_type": "stream",
     "text": [
      "MAE: 0.29145770564401086\n",
      "MSE: 0.36140749470586164\n",
      "RMSE: 0.6011717680545733\n"
     ]
    }
   ],
   "source": [
    "print('MAE:', metrics.mean_absolute_error(Y_test, y_pred2))\n",
    "print('MSE:', metrics.mean_squared_error(Y_test, y_pred2))\n",
    "print('RMSE:', np.sqrt(metrics.mean_squared_error(Y_test, y_pred2)))"
   ]
  }
 ],
 "metadata": {
  "kernelspec": {
   "display_name": "Python 3",
   "language": "python",
   "name": "python3"
  },
  "language_info": {
   "codemirror_mode": {
    "name": "ipython",
    "version": 3
   },
   "file_extension": ".py",
   "mimetype": "text/x-python",
   "name": "python",
   "nbconvert_exporter": "python",
   "pygments_lexer": "ipython3",
   "version": "3.8.5"
  }
 },
 "nbformat": 4,
 "nbformat_minor": 4
}
